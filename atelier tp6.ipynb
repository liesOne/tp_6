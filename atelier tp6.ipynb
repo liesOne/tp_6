{
 "cells": [
  {
   "cell_type": "code",
   "execution_count": 1,
   "metadata": {},
   "outputs": [
    {
     "name": "stderr",
     "output_type": "stream",
     "text": [
      "d:\\Users\\Khaled-Khodja\\AppData\\Local\\Continuum\\anaconda3\\lib\\site-packages\\gensim\\utils.py:1197: UserWarning: detected Windows; aliasing chunkize to chunkize_serial\n",
      "  warnings.warn(\"detected Windows; aliasing chunkize to chunkize_serial\")\n"
     ]
    }
   ],
   "source": [
    "import pandas as pd\n",
    "import numpy as np\n",
    "import random\n",
    "import os\n",
    "import re\n",
    "import matplotlib.pyplot as plt\n",
    "import seaborn as sb\n",
    "import re\n",
    "import gensim\n",
    "import nltk\n",
    "from sklearn.feature_extraction.stop_words import ENGLISH_STOP_WORDS\n",
    "import string\n",
    "from textblob import Word\n",
    "from gensim import corpora\n",
    "from pprint import pprint\n",
    "from sklearn.model_selection import train_test_split\n",
    "from gensim.utils import simple_preprocess\n",
    "from gensim.models.ldamodel import LdaModel\n",
    "from gensim.utils import simple_preprocess, lemmatize\n",
    "from gensim.models.tfidfmodel import TfidfModel\n",
    "from gensim import corpora, models\n",
    "from sklearn.feature_extraction.text import CountVectorizer\n",
    "import copy\n",
    "from sklearn.decomposition import NMF"
   ]
  },
  {
   "cell_type": "markdown",
   "metadata": {},
   "source": [
    "stopwords_english = set(ENGLISH_STOP_WORDS)\n",
    "ponctuations = string.punctuation"
   ]
  },
  {
   "cell_type": "code",
   "execution_count": 2,
   "metadata": {},
   "outputs": [],
   "source": [
    "sb.set()"
   ]
  },
  {
   "cell_type": "code",
   "execution_count": 3,
   "metadata": {},
   "outputs": [],
   "source": [
    "def tagsPredictLDA(nbreTopics, corpus_train, corpus_test, dictionary, Tags_train_vect, Tags_test, dictionnaire_tags):\n",
    "    \n",
    "    \n",
    "    lda_model = LdaModel(corpus = corpus_train, \n",
    "                         id2word = dictionary,  \n",
    "                         num_topics = nbreTopics)\n",
    "    \n",
    "    #Création de la matrice Topics par Tags depuis le jeu d'entrainement\n",
    "    topics_vocabulary_array = lda_model.get_topics()\n",
    "    quest_topics = Quest_train_vect.dot(topics_vocabulary_array.transpose())\n",
    "    topics_tags = quest_topics.transpose().dot(Tags_train_vect.toarray())\n",
    "    \n",
    "    #Matrice Topics et Phi-Value\n",
    "    topics_vect_test  = lda_model[corpus_test]\n",
    "\n",
    "    nbreTagsPredict = 6\n",
    "    array = np.zeros((len(topics_vect_test), lda_model.num_topics))\n",
    "    for i, c in enumerate(topics_vect_test):\n",
    "        for numTopic, phiValue in c:\n",
    "            array[i][numTopic] = phiValue\n",
    "    \n",
    "    \n",
    "    TagsPredictArray = array.dot(topics_tags)\n",
    "    ordreTags = np.argsort(TagsPredictArray)\n",
    "    tagsPredict = []\n",
    "    for listeTags in ordreTags:\n",
    "        l = []\n",
    "        for t in listeTags[::-1][:nbreTagsPredict]:\n",
    "            l.append(dictionnaire_tags[t])\n",
    "        tagsPredict.append(l)\n",
    "    \n",
    "    tagsPredict = [\",\".join(t) for t in tagsPredict]\n",
    "\n",
    "    tags_predict = predictTags(corpus_test, topics_tags, topics_tags, lda_model)\n",
    "    Tags_test_Predict = Tags_test.copy()\n",
    "    Tags_test_Predict[\"TagsPredict\"] = tags_predict\n",
    "    Tags_test_Predict[\"Precision\"] = Tags_test_Predict[[\"TagsCleaned\", \"TagsPredict\"]].apply(lambda x: precision(x[\"TagsCleaned\"], x[\"TagsPredict\"]), axis = 1)\n",
    "    Tags_test_Predict[\"Rappel\"] = Tags_test_Predict[[\"TagsCleaned\", \"TagsPredict\"]].apply(lambda x: rappel(x[\"TagsCleaned\"], x[\"TagsPredict\"]), axis = 1)\n",
    "    \n",
    "    return Tags_test_Predict"
   ]
  },
  {
   "cell_type": "code",
   "execution_count": 4,
   "metadata": {},
   "outputs": [],
   "source": [
    "def precision(label, labelPredit):\n",
    "    \"\"\"\n",
    "    label: chaine de caractere séparé comportant éventuellement des virgules\n",
    "    labelPredit: \n",
    "    \"\"\"\n",
    "    labelCommun = set(label.split(\",\")).intersection(labelPredit.split(\",\"))\n",
    "    \n",
    "    return len(labelCommun) / len(labelPredit.split(\",\"))\n",
    "\n",
    "\n",
    "def rappel(label, labelPredit):\n",
    "    \n",
    "    labelCommun = set(label.split(\",\")).intersection(labelPredit.split(\",\"))\n",
    "    \n",
    "    return len(labelCommun) / len(label.split(\",\"))"
   ]
  },
  {
   "cell_type": "code",
   "execution_count": 5,
   "metadata": {},
   "outputs": [],
   "source": [
    "def predictTags(corpus_test,  dictionaire_tags, topics_tags, lda_model):\n",
    "    \"\"\"\n",
    "    Paramètres:\n",
    "     - corpus_test : BOW version Gensim: liste de liste de mot et chaque mot est un tuple avec comme\n",
    "         premier nombre son id et en second, le nombre de fois où il apparait dans le corpus.\n",
    "    - dictionnaires tags\n",
    "    - lda_model\n",
    "                    \n",
    "    \"\"\"\n",
    "    topics_vect  = lda_model[corpus_test]\n",
    "    nbreTagsPredict = 6\n",
    "\n",
    "    #Construction d'un numpy Array\n",
    "    array = np.zeros((len(topics_vect), lda_model.num_topics))\n",
    "    for i, c in enumerate(topics_vect):\n",
    "        for numTopic, phiValue in c:\n",
    "            array[i][numTopic] = phiValue\n",
    "        \n",
    "    TagsPredictArray = array.dot(topics_tags)\n",
    "    ordreTags = np.argsort(TagsPredictArray)\n",
    "    tagsPredict = []\n",
    "    for listeTags in ordreTags:\n",
    "        l = []\n",
    "        for t in listeTags[::-1][:nbreTagsPredict]:\n",
    "            l.append(dictionnaire_tags[t])\n",
    "        tagsPredict.append(l)\n",
    "    \n",
    "    tagsPredict = [\",\".join(t) for t in tagsPredict]\n",
    "    \n",
    "    return tagsPredict\n"
   ]
  },
  {
   "cell_type": "code",
   "execution_count": 6,
   "metadata": {},
   "outputs": [],
   "source": [
    "#Nettoyage de la colonne Tags\n",
    "#Supression des chevrons\n",
    "class AnalyseTags:\n",
    "    \"\"\"\n",
    "    Classe possédant un ensemble de méthode \n",
    "    pour un \"nettoyage\" des tags\n",
    "    \"\"\"\n",
    "    \n",
    "    def __init__(self):\n",
    "        self.tags = None\n",
    "        self.tagsCleaned = None\n",
    "    \n",
    "    \n",
    "    def eliminationChevrons(self, tags):\n",
    "        \"\"\"\n",
    "        Renvoi une chaine de caractères en éliminant les chevrons \"<\" et \">\"\n",
    "        argument:\n",
    "            tags: chaîne de caractères\n",
    "        \"\"\"\n",
    "        return tags.replace(\"><\", \",\").replace(\"<\", \"\").replace(\">\", \"\")\n",
    "\n",
    "    \n",
    "    def splitTags(self, tags):\n",
    "        \"\"\"\n",
    "        renvoie une chaine de caractéres (format str)\n",
    "        en séparant les mots qui comporte un \"-\" (tiret)\n",
    "        arguments:\n",
    "            tags: de format str correspondant à une liste de mots séparés par des virgule \n",
    "        \"\"\"\n",
    "        tags = tags.split(\",\")\n",
    "        tags2 = []\n",
    "        for t in tags:\n",
    "            if \"-\" in t:\n",
    "                for t2 in t.split(\"-\"):\n",
    "                    tags2.append(t2)\n",
    "            else:\n",
    "                tags2.append(t)\n",
    "        \n",
    "        tags2 = [t.lower().strip() for t in tags2]\n",
    "        \n",
    "        return \",\".join(sorted(tags2))\n",
    "\n",
    "    \n",
    "    def filtreTags(self, tags):\n",
    "        \"\"\"\n",
    "        Renvoie une chaine de caractère correspondant à une liste de mots séparé par des virgules\n",
    "        Elle élimine les mots:\n",
    "        + de 1 caractères\n",
    "        + les nombre\n",
    "        + les tags commençant par une lettre puis des nombres\n",
    "        argument:\n",
    "            tags: chaîne de catactères composés de mot séparés par des virgules\n",
    "        \"\"\"\n",
    "        tags = tags.split(\",\")\n",
    "        tags2 = []\n",
    "        patern1 =re.compile(r\"\\w?[0-9]+(\\.)?.*\")\n",
    "        patern2 = re.compile(r\"\\s+\")\n",
    "        patern3 = re.compile(r\"(.+\\.){2,}.+\")\n",
    "        for t in tags:\n",
    "            if patern1.match(t):\n",
    "                pass\n",
    "            elif patern2.match(t):\n",
    "                pass\n",
    "            elif patern3.match(t):\n",
    "                pass\n",
    "            elif len(t) <= 1:\n",
    "                pass\n",
    "            else:\n",
    "                tags2.append(t)\n",
    "        \n",
    "        tags2 = [t.lower().strip() for t in tags2]\n",
    "        \n",
    "        return \",\".join(sorted(set(tags2)))\n",
    "    \n",
    "    \n",
    "    def nettoieTags(self, tags):\n",
    "        \"\"\"\n",
    "        Applique les 3 fonctions successivement sur la chaîne de caractères:\n",
    "        - Elimination des chevrons\n",
    "        - Séparation des tags comportants un tiret\n",
    "        - Suppression des tags correspondant un certains critère (voir méthode \"filtreTags\")\n",
    "        \"\"\"\n",
    "        self.tags = tags\n",
    "        self.tagsCleaned = self.eliminationChevrons(self.tags)\n",
    "        self.tagsCleaned = self.splitTags(self.tagsCleaned)\n",
    "        self.tagsCleaned = self.filtreTags(self.tagsCleaned)\n",
    "        return self.tagsCleaned\n",
    "    \n",
    "    \n",
    "    def frequenceTags(self, tags, freqTags = {}):\n",
    "        \"\"\"\n",
    "        Renvoi un dictionnaire en répertoriant les mot en \n",
    "        Argument:\n",
    "        - tags: \n",
    "        \"\"\"\n",
    "        for t in tags.split(\",\"):\n",
    "            if t in freqTags:\n",
    "                freqTags[t] += 1\n",
    "            else:\n",
    "                freqTags[t] = 1\n",
    "        return freqTags"
   ]
  },
  {
   "cell_type": "code",
   "execution_count": 7,
   "metadata": {},
   "outputs": [],
   "source": [
    "class AnalyseTitleBodyCode():\n",
    "    \n",
    "    def __init__(self):\n",
    "        \"\"\"\n",
    "        \n",
    "        \"\"\"\n",
    "        self.title_body = None\n",
    "        \n",
    "    \n",
    "    def splitQuestionCode(self, texte):\n",
    "        \"\"\"\n",
    "        \"\"\"\n",
    "        texte = re.sub(r\"\\n\", \" \", texte)\n",
    "        codes = re.findall(r\"<code>.*?</code>\", texte)\n",
    "        code = \"\"\n",
    "        for c in codes:\n",
    "            code += c\n",
    "        #suppression des portions de code dans la question\n",
    "        question = re.sub(r\"<code>.*?</code>\", \" \", texte)\n",
    "        \n",
    "        return question, code\n",
    "    \n",
    "    \n",
    "    def eliminationBalise(self, texte):\n",
    "        \"\"\"\n",
    "        \"\"\"\n",
    "        expressions_regulieres = [r\"\\n\", r\"<.*?>\", r\"\\r\", r\"(\\w+\\/)+[\\w+\\.]+\", r'https?://[\\S]+', \n",
    "                                  r\"(\\w+\\.)+\\w+\", r\"\\$\\w+\", r'\\b(\\w)\\1+\\b', r\"  +\", r\"\\b[0-9]+\\b\"] \n",
    "        for motif in expressions_regulieres:\n",
    "            texte = re.sub(motif, \" \", texte)\n",
    "        \n",
    "        return texte\n",
    "    \n",
    "    \n",
    "    def tokenisation(self, texte):\n",
    "        \"\"\"\n",
    "        \"\"\"\n",
    "        texteTokenise = nltk.word_tokenize(eliminationBalise(t))\n",
    "    \n",
    "        return \" \".join(texteTokenise)\n",
    "\n",
    "    \n",
    "    def suppressionPonctuation(self, texte):\n",
    "        \"\"\"\n",
    "        \"\"\"\n",
    "        texte = re.sub(r\"[^\\w\\s]\",\" \",texte)\n",
    "        \n",
    "        return texte\n",
    "    \n",
    "    def lowerCase(self, texte):\n",
    "        \"\"\"\n",
    "        \"\"\"\n",
    "        return texte.lower()\n",
    "    \n",
    "    \n",
    "    def suppressionStopWord(self, texte):\n",
    "        \"\"\"\n",
    "        \"\"\"\n",
    "        texteTokenise = []\n",
    "        for m in texte.split():\n",
    "            if not(m in set(ENGLISH_STOP_WORDS)):\n",
    "                texteTokenise.append(m)\n",
    "        \n",
    "        return \" \".join(texteTokenise)\n",
    "    \n",
    "    \n",
    "    def lemmatisation(self, texte):\n",
    "        \"\"\"\n",
    "        \"\"\"\n",
    "        texteTokenise = []\n",
    "        for m in texte.split(\" \"):\n",
    "            texteTokenise.append(Word(m).lemmatize())\n",
    "            \n",
    "        return \" \".join(texteTokenise)\n",
    "    \n",
    "    def stemmatisation(self, texte):\n",
    "        \"\"\"\n",
    "        \"\"\"\n",
    "        texteTokenise = []\n",
    "        for m in texte.split(\" \"):\n",
    "            texteTokenise.append(Word(m).stem())\n",
    "            \n",
    "        return \" \".join(texteTokenise)\n",
    "    \n",
    "    \n",
    "    def suppressionEspace(self, texte):\n",
    "        texte = re.sub(r\"(\\s){2,}\", \" \", texte)\n",
    "        \n",
    "        return texte\n",
    "    \n",
    "    \n",
    "    def nettoyageTexte(self, texte):\n",
    "        \"\"\"\n",
    "        \"\"\"\n",
    "        texte = self.eliminationBalise(texte)\n",
    "        texte = self.lowerCase(texte)\n",
    "        texte = self.suppressionPonctuation(texte)\n",
    "        texte = self.suppressionStopWord(texte)\n",
    "        texte = self.lemmatisation(texte)\n",
    "        texte = self.stemmatisation(texte)\n",
    "        texte = self.suppressionEspace(texte)\n",
    "        texte = self.suppressionMotLongueur(texte, 2, 20)\n",
    "        \n",
    "        return texte\n",
    "    \n",
    "    \n",
    "    def suppressionMotLongueur(self, texte, longueurMin = 1, longueurMax = 25):\n",
    "        \n",
    "        texteTokenise = []\n",
    "        for m in texte.split():\n",
    "            if len(m) > longueurMin and len(m) < longueurMax:\n",
    "                texteTokenise.append(m)\n",
    "                \n",
    "        return \" \".join(texteTokenise)\n",
    "        \n",
    "    def nettoyageCode(self, code):\n",
    "        \n",
    "        #code = self.eliminationBalise(code)\n",
    "        code = self.lowerCase(code)\n",
    "        code = self.suppressionPonctuation(code)\n",
    "        code = self.suppressionEspace(code)\n",
    "        code = self.suppressionMotLongueur(code, 2, 25)\n",
    "        \n",
    "        return code"
   ]
  },
  {
   "cell_type": "code",
   "execution_count": 8,
   "metadata": {},
   "outputs": [],
   "source": [
    "repScript = os.getcwd()"
   ]
  },
  {
   "cell_type": "markdown",
   "metadata": {},
   "source": [
    "<CENTER><H2>CHARGEMENT DU FICHIER</H2></CENTER>"
   ]
  },
  {
   "cell_type": "code",
   "execution_count": 9,
   "metadata": {},
   "outputs": [],
   "source": [
    "#Ouverture du fichier\n",
    "annees = [2018]\n",
    "data = pd.DataFrame()\n",
    "for year in annees:\n",
    "    data_0 = pd.read_csv(os.path.join(os.path.dirname(repScript), \"donnees\", \"QueryResults_{}.csv\".format(year)))\n",
    "    data = pd.concat([data, data_0])\n",
    "data = data.reset_index(drop = True)\n",
    "data_0 = None"
   ]
  },
  {
   "cell_type": "markdown",
   "metadata": {},
   "source": [
    "<CENTER><H3>VISUALISATION DES DONNEES</H3></CENTER>"
   ]
  },
  {
   "cell_type": "code",
   "execution_count": 10,
   "metadata": {},
   "outputs": [
    {
     "data": {
      "text/html": [
       "<div>\n",
       "<style scoped>\n",
       "    .dataframe tbody tr th:only-of-type {\n",
       "        vertical-align: middle;\n",
       "    }\n",
       "\n",
       "    .dataframe tbody tr th {\n",
       "        vertical-align: top;\n",
       "    }\n",
       "\n",
       "    .dataframe thead th {\n",
       "        text-align: right;\n",
       "    }\n",
       "</style>\n",
       "<table border=\"1\" class=\"dataframe\">\n",
       "  <thead>\n",
       "    <tr style=\"text-align: right;\">\n",
       "      <th></th>\n",
       "      <th>CreationDate</th>\n",
       "      <th>ViewCount</th>\n",
       "      <th>Title</th>\n",
       "      <th>Body</th>\n",
       "      <th>Tags</th>\n",
       "    </tr>\n",
       "  </thead>\n",
       "  <tbody>\n",
       "    <tr>\n",
       "      <th>0</th>\n",
       "      <td>2018-01-21 19:36:48</td>\n",
       "      <td>1580</td>\n",
       "      <td>How to copy the value of variable in javascript</td>\n",
       "      <td>&lt;p&gt;I'm trying to copy string variable to clipb...</td>\n",
       "      <td>&lt;javascript&gt;&lt;copy&gt;&lt;clipboard&gt;</td>\n",
       "    </tr>\n",
       "    <tr>\n",
       "      <th>1</th>\n",
       "      <td>2018-01-21 19:37:46</td>\n",
       "      <td>2974</td>\n",
       "      <td>Pixi.js - Draw Rectangle with Gradient Fill</td>\n",
       "      <td>&lt;p&gt;I'm using the &lt;a href=\"http://www.pixijs.co...</td>\n",
       "      <td>&lt;javascript&gt;&lt;gradient&gt;&lt;pixi.js&gt;&lt;pixijs&gt;</td>\n",
       "    </tr>\n",
       "    <tr>\n",
       "      <th>2</th>\n",
       "      <td>2018-01-21 19:37:59</td>\n",
       "      <td>207</td>\n",
       "      <td>Capture Textbox value through a CheckBox asp.n...</td>\n",
       "      <td>&lt;p&gt;There is a Form which consists of Textbox w...</td>\n",
       "      <td>&lt;c#&gt;&lt;asp.net-mvc&gt;&lt;checkbox&gt;&lt;textbox&gt;</td>\n",
       "    </tr>\n",
       "    <tr>\n",
       "      <th>3</th>\n",
       "      <td>2018-01-21 19:38:57</td>\n",
       "      <td>368</td>\n",
       "      <td>discordapp.com/api/users/@me/guilds sometimes ...</td>\n",
       "      <td>&lt;p&gt;In my application users login with Discord ...</td>\n",
       "      <td>&lt;discord&gt;</td>\n",
       "    </tr>\n",
       "    <tr>\n",
       "      <th>4</th>\n",
       "      <td>2018-01-21 19:40:31</td>\n",
       "      <td>370</td>\n",
       "      <td>Class Parcelable with ArrayList of Objects</td>\n",
       "      <td>&lt;p&gt;I'm trying to use Parcelable on a class tha...</td>\n",
       "      <td>&lt;java&gt;&lt;android&gt;&lt;object&gt;&lt;arraylist&gt;&lt;parcelable&gt;</td>\n",
       "    </tr>\n",
       "  </tbody>\n",
       "</table>\n",
       "</div>"
      ],
      "text/plain": [
       "          CreationDate  ViewCount  \\\n",
       "0  2018-01-21 19:36:48       1580   \n",
       "1  2018-01-21 19:37:46       2974   \n",
       "2  2018-01-21 19:37:59        207   \n",
       "3  2018-01-21 19:38:57        368   \n",
       "4  2018-01-21 19:40:31        370   \n",
       "\n",
       "                                               Title  \\\n",
       "0    How to copy the value of variable in javascript   \n",
       "1        Pixi.js - Draw Rectangle with Gradient Fill   \n",
       "2  Capture Textbox value through a CheckBox asp.n...   \n",
       "3  discordapp.com/api/users/@me/guilds sometimes ...   \n",
       "4         Class Parcelable with ArrayList of Objects   \n",
       "\n",
       "                                                Body  \\\n",
       "0  <p>I'm trying to copy string variable to clipb...   \n",
       "1  <p>I'm using the <a href=\"http://www.pixijs.co...   \n",
       "2  <p>There is a Form which consists of Textbox w...   \n",
       "3  <p>In my application users login with Discord ...   \n",
       "4  <p>I'm trying to use Parcelable on a class tha...   \n",
       "\n",
       "                                             Tags  \n",
       "0                   <javascript><copy><clipboard>  \n",
       "1         <javascript><gradient><pixi.js><pixijs>  \n",
       "2            <c#><asp.net-mvc><checkbox><textbox>  \n",
       "3                                       <discord>  \n",
       "4  <java><android><object><arraylist><parcelable>  "
      ]
     },
     "execution_count": 10,
     "metadata": {},
     "output_type": "execute_result"
    }
   ],
   "source": [
    "data.head()"
   ]
  },
  {
   "cell_type": "markdown",
   "metadata": {},
   "source": [
    "<CENTER><H2>ANALYSE DES TAGS</H2></CENTER>"
   ]
  },
  {
   "cell_type": "markdown",
   "metadata": {},
   "source": [
    "<CENTER><H3>NETTOYAGE DES TAGS</H3></CENTER>"
   ]
  },
  {
   "cell_type": "code",
   "execution_count": 11,
   "metadata": {},
   "outputs": [],
   "source": [
    "analysetags = AnalyseTags()"
   ]
  },
  {
   "cell_type": "code",
   "execution_count": 12,
   "metadata": {},
   "outputs": [],
   "source": [
    "data[\"TagsCleaned\"] = data[\"Tags\"].apply(analysetags.nettoieTags)"
   ]
  },
  {
   "cell_type": "markdown",
   "metadata": {},
   "source": [
    "<CENTER><H3>ANALYSE DES TAGS</H3></CENTER>"
   ]
  },
  {
   "cell_type": "code",
   "execution_count": 13,
   "metadata": {},
   "outputs": [],
   "source": [
    "freqTags = {}\n",
    "for tags in list(data[\"TagsCleaned\"]):\n",
    "    freqTags = analysetags.frequenceTags(tags, freqTags)"
   ]
  },
  {
   "cell_type": "markdown",
   "metadata": {},
   "source": [
    "<CENTER><H3>FREQUENCE DES TAGS</H3></CENTER>"
   ]
  },
  {
   "cell_type": "code",
   "execution_count": 14,
   "metadata": {},
   "outputs": [],
   "source": [
    "dataFreqTags = pd.DataFrame({\"tag\": list(freqTags.keys()), \"freq\": list(freqTags.values())})\n",
    "dataFreqTags = dataFreqTags.sort_values(\"freq\", ascending = False)"
   ]
  },
  {
   "cell_type": "code",
   "execution_count": 15,
   "metadata": {},
   "outputs": [
    {
     "data": {
      "text/plain": [
       "'Il y a 9738 tags dans notre base de données'"
      ]
     },
     "execution_count": 15,
     "metadata": {},
     "output_type": "execute_result"
    }
   ],
   "source": [
    "\"Il y a {} tags dans notre base de données\".format(len(dataFreqTags))"
   ]
  },
  {
   "cell_type": "code",
   "execution_count": 16,
   "metadata": {},
   "outputs": [
    {
     "data": {
      "image/png": "[encoded data removed]",
      "text/plain": [
       "<Figure size 1080x576 with 1 Axes>"
      ]
     },
     "metadata": {},
     "output_type": "display_data"
    }
   ],
   "source": [
    "plt.figure(figsize = (15, 8))\n",
    "sb.barplot(x = dataFreqTags['tag'][:50], y = dataFreqTags['freq'])\n",
    "plt.title(\"Palmares des 50 premiers tags\")\n",
    "plt.xticks(rotation = 45, horizontalalignment = \"right\")\n",
    "plt.ylabel(\"Fréquence tag\")\n",
    "plt.savefig(\"FreqTag.png\", dpi = 300)"
   ]
  },
  {
   "cell_type": "markdown",
   "metadata": {},
   "source": [
    "Détermination d'un seuil pour éliminer les tags les moins fréquents:\n",
    "+ Difficulté pour prédire des tags dont la présence dans la base de donnée est très faible\n",
    "+ Choix du tags par l'utilisateur peu usité par la communauté (peut-être est-ce un mauvais choix)"
   ]
  },
  {
   "cell_type": "code",
   "execution_count": 17,
   "metadata": {},
   "outputs": [
    {
     "data": {
      "text/html": [
       "<div>\n",
       "<style scoped>\n",
       "    .dataframe tbody tr th:only-of-type {\n",
       "        vertical-align: middle;\n",
       "    }\n",
       "\n",
       "    .dataframe tbody tr th {\n",
       "        vertical-align: top;\n",
       "    }\n",
       "\n",
       "    .dataframe thead th {\n",
       "        text-align: right;\n",
       "    }\n",
       "</style>\n",
       "<table border=\"1\" class=\"dataframe\">\n",
       "  <thead>\n",
       "    <tr style=\"text-align: right;\">\n",
       "      <th></th>\n",
       "      <th>freq</th>\n",
       "    </tr>\n",
       "  </thead>\n",
       "  <tbody>\n",
       "    <tr>\n",
       "      <th>count</th>\n",
       "      <td>9738.000000</td>\n",
       "    </tr>\n",
       "    <tr>\n",
       "      <th>mean</th>\n",
       "      <td>19.134422</td>\n",
       "    </tr>\n",
       "    <tr>\n",
       "      <th>std</th>\n",
       "      <td>129.630505</td>\n",
       "    </tr>\n",
       "    <tr>\n",
       "      <th>min</th>\n",
       "      <td>1.000000</td>\n",
       "    </tr>\n",
       "    <tr>\n",
       "      <th>25%</th>\n",
       "      <td>1.000000</td>\n",
       "    </tr>\n",
       "    <tr>\n",
       "      <th>50%</th>\n",
       "      <td>2.000000</td>\n",
       "    </tr>\n",
       "    <tr>\n",
       "      <th>75%</th>\n",
       "      <td>7.000000</td>\n",
       "    </tr>\n",
       "    <tr>\n",
       "      <th>max</th>\n",
       "      <td>6016.000000</td>\n",
       "    </tr>\n",
       "  </tbody>\n",
       "</table>\n",
       "</div>"
      ],
      "text/plain": [
       "              freq\n",
       "count  9738.000000\n",
       "mean     19.134422\n",
       "std     129.630505\n",
       "min       1.000000\n",
       "25%       1.000000\n",
       "50%       2.000000\n",
       "75%       7.000000\n",
       "max    6016.000000"
      ]
     },
     "execution_count": 17,
     "metadata": {},
     "output_type": "execute_result"
    }
   ],
   "source": [
    "dataFreqTags.describe()"
   ]
  },
  {
   "cell_type": "markdown",
   "metadata": {},
   "source": [
    "+ 50% des tags ont une fréquence comprise entre 1 et 8 !!!\n",
    "+ le tag le plus fréquent est python avec 6 084 apparitions"
   ]
  },
  {
   "cell_type": "code",
   "execution_count": 18,
   "metadata": {},
   "outputs": [
    {
     "data": {
      "text/plain": [
       "(0, 22)"
      ]
     },
     "execution_count": 18,
     "metadata": {},
     "output_type": "execute_result"
    },
    {
     "data": {
      "image/png": "[encoded data removed]",
      "text/plain": [
       "<Figure size 432x576 with 1 Axes>"
      ]
     },
     "metadata": {},
     "output_type": "display_data"
    }
   ],
   "source": [
    "plt.figure(figsize = (6, 8))\n",
    "sb.boxplot(dataFreqTags[\"freq\"], orient = \"v\")\n",
    "plt.ylim((0, 22))"
   ]
  },
  {
   "cell_type": "markdown",
   "metadata": {},
   "source": [
    "On cherche un seuil de freq de tags qui n'éliminera pas de manière excessive des questions qui n'auraient plus de tags"
   ]
  },
  {
   "cell_type": "code",
   "execution_count": 19,
   "metadata": {},
   "outputs": [],
   "source": [
    "reponse = {}\n",
    "for seuil in range(200):\n",
    "    TagsFiltre = []\n",
    "    for tags in list(data[\"TagsCleaned\"]):\n",
    "        tags2 = []\n",
    "        for tag in tags.split(\",\"):\n",
    "            if freqTags[tag] > seuil:\n",
    "                tags2.append(tag)\n",
    "        TagsFiltre.append(\",\".join(tags2))\n",
    "    \n",
    "    nbre = 0\n",
    "    for i in TagsFiltre:\n",
    "        if len(i) == 0:\n",
    "            nbre += 1\n",
    "    reponse[seuil] = round(nbre / len(data) * 100, 2)"
   ]
  },
  {
   "cell_type": "code",
   "execution_count": 20,
   "metadata": {},
   "outputs": [],
   "source": [
    "df_reponse = pd.DataFrame({\"seuil\": list(reponse.keys()), \"nbreQuestionsSansTags\": list(reponse.values())})"
   ]
  },
  {
   "cell_type": "code",
   "execution_count": 21,
   "metadata": {},
   "outputs": [
    {
     "data": {
      "text/plain": [
       "Text(0.5, 0, 'Fréquence minimum du tag')"
      ]
     },
     "execution_count": 21,
     "metadata": {},
     "output_type": "execute_result"
    },
    {
     "data": {
      "image/png": "[encoded data removed]",
      "text/plain": [
       "<Figure size 720x504 with 1 Axes>"
      ]
     },
     "metadata": {},
     "output_type": "display_data"
    }
   ],
   "source": [
    "seuil = 100\n",
    "plt.figure(figsize = (10, 7))\n",
    "plt.plot(range(seuil),df_reponse[[\"nbreQuestionsSansTags\"]][:seuil])\n",
    "plt.title(\"Courbe présentant la proportion de questions sans tag après application du filtre\")\n",
    "plt.ylabel(\"Taux de questions sans tag\")\n",
    "plt.xlabel(\"Fréquence minimum du tag\")"
   ]
  },
  {
   "cell_type": "markdown",
   "metadata": {},
   "source": [
    "Au vu du graphique, pour une base de donnée comportant 47 000 questions nous éliminons les tags présents moins de 60 fois. Cela correspond à un élimination d'environ 3% des questions."
   ]
  },
  {
   "cell_type": "markdown",
   "metadata": {},
   "source": [
    "<CENTER><H3>SUPPRESSION DES TAGS PRESENTS MOINS DE 60 FOIS ET SUPPRESSION DES QUESTIONS SANS TAGS</H3></CENTER>"
   ]
  },
  {
   "cell_type": "code",
   "execution_count": 22,
   "metadata": {},
   "outputs": [
    {
     "name": "stdout",
     "output_type": "stream",
     "text": [
      "Nombre de questions supprimées: 2529\n",
      "Proportion du nombre de questions supprimées: 5.06%\n"
     ]
    }
   ],
   "source": [
    "listeTags = []\n",
    "seuil = 60\n",
    "for tags in list(data['TagsCleaned']):\n",
    "    listeTags2 = []\n",
    "    for tag in tags.split(\",\"):\n",
    "        if freqTags[tag] >= seuil:\n",
    "            listeTags2.append(tag)\n",
    "    listeTags.append(\",\".join(listeTags2))\n",
    "    \n",
    "data[\"TagsCleaned\"] = listeTags\n",
    "print(\"Nombre de questions supprimées: {}\".format(len(data[data[\"TagsCleaned\"] == \"\"])))\n",
    "print(\"Proportion du nombre de questions supprimées: {}%\".format(round(len(data[data[\"TagsCleaned\"] == \"\"]) / len(data) * 100, 2)))\n",
    "data = data[data[\"TagsCleaned\"] != \"\"]"
   ]
  },
  {
   "cell_type": "markdown",
   "metadata": {},
   "source": [
    "<CENTER><H3>NOMBRE DE TAGS PAR QUESTION</H3></CENTER>"
   ]
  },
  {
   "cell_type": "code",
   "execution_count": 23,
   "metadata": {},
   "outputs": [],
   "source": [
    "nbreTagsQuestion = []\n",
    "for tags in list(data[\"TagsCleaned\"]):\n",
    "    nbreTagsQuestion.append(len(tags.split(\",\")))"
   ]
  },
  {
   "cell_type": "code",
   "execution_count": 24,
   "metadata": {},
   "outputs": [
    {
     "name": "stdout",
     "output_type": "stream",
     "text": [
      "9\n"
     ]
    }
   ],
   "source": [
    "maxTags = max(nbreTagsQuestion)\n",
    "print(max(nbreTagsQuestion))"
   ]
  },
  {
   "cell_type": "markdown",
   "metadata": {},
   "source": [
    "Après le traitement, le nombre de tags par question oscille entre 1 et 9. Le mode s'établissant à 2. "
   ]
  },
  {
   "cell_type": "code",
   "execution_count": 25,
   "metadata": {},
   "outputs": [
    {
     "data": {
      "text/plain": [
       "([<matplotlib.axis.XTick at 0xd9005c0>,\n",
       "  <matplotlib.axis.XTick at 0xd935748>,\n",
       "  <matplotlib.axis.XTick at 0xd935d30>,\n",
       "  <matplotlib.axis.XTick at 0xd799400>,\n",
       "  <matplotlib.axis.XTick at 0xd757dd8>,\n",
       "  <matplotlib.axis.XTick at 0xd74d208>,\n",
       "  <matplotlib.axis.XTick at 0xd74d668>,\n",
       "  <matplotlib.axis.XTick at 0xd74db38>,\n",
       "  <matplotlib.axis.XTick at 0xd74de48>,\n",
       "  <matplotlib.axis.XTick at 0xd744518>],\n",
       " <a list of 10 Text xticklabel objects>)"
      ]
     },
     "execution_count": 25,
     "metadata": {},
     "output_type": "execute_result"
    },
    {
     "data": {
      "image/png": "[encoded data removed]",
      "text/plain": [
       "<Figure size 576x360 with 1 Axes>"
      ]
     },
     "metadata": {},
     "output_type": "display_data"
    }
   ],
   "source": [
    "plt.figure(figsize = (8, 5))\n",
    "sb.distplot(nbreTagsQuestion, kde = False)\n",
    "plt.title(\"Distribution des Questions en fonction de leur nombre de tags\")\n",
    "plt.xlabel(\"Nombre de tags par question\")\n",
    "plt.ylabel(\"Nombre de questions\")\n",
    "plt.xticks(range(maxTags + 1), range(maxTags + 1))"
   ]
  },
  {
   "cell_type": "code",
   "execution_count": 26,
   "metadata": {},
   "outputs": [
    {
     "data": {
      "text/html": [
       "<div>\n",
       "<style scoped>\n",
       "    .dataframe tbody tr th:only-of-type {\n",
       "        vertical-align: middle;\n",
       "    }\n",
       "\n",
       "    .dataframe tbody tr th {\n",
       "        vertical-align: top;\n",
       "    }\n",
       "\n",
       "    .dataframe thead th {\n",
       "        text-align: right;\n",
       "    }\n",
       "</style>\n",
       "<table border=\"1\" class=\"dataframe\">\n",
       "  <thead>\n",
       "    <tr style=\"text-align: right;\">\n",
       "      <th></th>\n",
       "      <th>Nbre Question</th>\n",
       "      <th>%</th>\n",
       "      <th>%cum</th>\n",
       "    </tr>\n",
       "    <tr>\n",
       "      <th>Nbre Tags</th>\n",
       "      <th></th>\n",
       "      <th></th>\n",
       "      <th></th>\n",
       "    </tr>\n",
       "  </thead>\n",
       "  <tbody>\n",
       "    <tr>\n",
       "      <th>1</th>\n",
       "      <td>9546</td>\n",
       "      <td>20.11</td>\n",
       "      <td>20.11</td>\n",
       "    </tr>\n",
       "    <tr>\n",
       "      <th>2</th>\n",
       "      <td>13383</td>\n",
       "      <td>28.19</td>\n",
       "      <td>48.30</td>\n",
       "    </tr>\n",
       "    <tr>\n",
       "      <th>3</th>\n",
       "      <td>11360</td>\n",
       "      <td>23.93</td>\n",
       "      <td>72.23</td>\n",
       "    </tr>\n",
       "    <tr>\n",
       "      <th>4</th>\n",
       "      <td>7323</td>\n",
       "      <td>15.43</td>\n",
       "      <td>87.66</td>\n",
       "    </tr>\n",
       "    <tr>\n",
       "      <th>5</th>\n",
       "      <td>3778</td>\n",
       "      <td>7.96</td>\n",
       "      <td>95.62</td>\n",
       "    </tr>\n",
       "    <tr>\n",
       "      <th>6</th>\n",
       "      <td>1474</td>\n",
       "      <td>3.11</td>\n",
       "      <td>98.73</td>\n",
       "    </tr>\n",
       "    <tr>\n",
       "      <th>7</th>\n",
       "      <td>469</td>\n",
       "      <td>0.99</td>\n",
       "      <td>99.72</td>\n",
       "    </tr>\n",
       "    <tr>\n",
       "      <th>8</th>\n",
       "      <td>114</td>\n",
       "      <td>0.24</td>\n",
       "      <td>99.96</td>\n",
       "    </tr>\n",
       "    <tr>\n",
       "      <th>9</th>\n",
       "      <td>24</td>\n",
       "      <td>0.05</td>\n",
       "      <td>100.01</td>\n",
       "    </tr>\n",
       "  </tbody>\n",
       "</table>\n",
       "</div>"
      ],
      "text/plain": [
       "           Nbre Question      %    %cum\n",
       "Nbre Tags                              \n",
       "1                   9546  20.11   20.11\n",
       "2                  13383  28.19   48.30\n",
       "3                  11360  23.93   72.23\n",
       "4                   7323  15.43   87.66\n",
       "5                   3778   7.96   95.62\n",
       "6                   1474   3.11   98.73\n",
       "7                    469   0.99   99.72\n",
       "8                    114   0.24   99.96\n",
       "9                     24   0.05  100.01"
      ]
     },
     "execution_count": 26,
     "metadata": {},
     "output_type": "execute_result"
    }
   ],
   "source": [
    "df_nbreTagQuest = pd.DataFrame({\"Nbre Tags\": nbreTagsQuestion, \"Nbre Question\": 1}).groupby(\"Nbre Tags\").count()\n",
    "df_nbreTagQuest[\"%\"] = round(df_nbreTagQuest[\"Nbre Question\"] / df_nbreTagQuest[\"Nbre Question\"].sum() * 100, 2 )\n",
    "df_nbreTagQuest[\"%cum\"] = df_nbreTagQuest[\"%\"].cumsum()\n",
    "df_nbreTagQuest"
   ]
  },
  {
   "cell_type": "markdown",
   "metadata": {},
   "source": [
    "Dans la suite de ce projet, nous spécifierons le nombre de tags à prédire au nombre de 6 --> 98 % des sont composés d'au plus de 6 tags"
   ]
  },
  {
   "cell_type": "code",
   "execution_count": 27,
   "metadata": {},
   "outputs": [
    {
     "data": {
      "text/plain": [
       "'Il reste 482 tags après avoir effectué le filtre'"
      ]
     },
     "execution_count": 27,
     "metadata": {},
     "output_type": "execute_result"
    }
   ],
   "source": [
    "compteur = 0 \n",
    "for tag, freq in freqTags.items():\n",
    "    if freq >=60:\n",
    "        compteur += 1\n",
    "\"Il reste {} tags après avoir effectué le filtre\".format(compteur)"
   ]
  },
  {
   "cell_type": "markdown",
   "metadata": {},
   "source": [
    "<CENTER><H2>ANALYSE DES QUESTIONS</H2></CENTER>"
   ]
  },
  {
   "cell_type": "markdown",
   "metadata": {},
   "source": [
    "Choix de fusionner titre et question dans une seule colonne\n",
    "+ separation du texte et du code\n",
    "+ suppression des balises\n",
    "+ transformation des caracteres en minuscules\n",
    "+ suppression des ponctuations\n",
    "+ suppression des mots vides\n",
    "+ lemmatisation des mots"
   ]
  },
  {
   "cell_type": "code",
   "execution_count": 28,
   "metadata": {},
   "outputs": [
    {
     "name": "stdout",
     "output_type": "stream",
     "text": [
      "Wall time: 2min 36s\n"
     ]
    }
   ],
   "source": [
    "%%time\n",
    "codes = []\n",
    "title_body = []\n",
    "traitementTexte = AnalyseTitleBodyCode()\n",
    "for i, row in data.iterrows():\n",
    "    question, code = traitementTexte.splitQuestionCode(row['Title'] + row[\"Body\"])\n",
    "    codes.append(traitementTexte.nettoyageCode(code))\n",
    "    title_body.append(traitementTexte.nettoyageTexte(question))\n",
    "    \n",
    "data[\"Title_Body_Cleaned\"] = title_body\n",
    "data[\"Code_Cleaned\"] = codes"
   ]
  },
  {
   "cell_type": "markdown",
   "metadata": {},
   "source": [
    "<B>ABANDON de la partie  \"CODE\" car cela déteriore les performance du modèle</B>fusion des colonnes \"title_body_cleaned\" et \"code_cleaned\""
   ]
  },
  {
   "cell_type": "code",
   "execution_count": 29,
   "metadata": {},
   "outputs": [],
   "source": [
    "#data[\"Title_Body_Code_Cleaned\"] = data[\"Title_Body_Cleaned\"] + data[\"Code_Cleaned\"]"
   ]
  },
  {
   "cell_type": "code",
   "execution_count": 30,
   "metadata": {},
   "outputs": [],
   "source": [
    "data[\"Title_Body_Code_Cleaned\"] = data[\"Title_Body_Cleaned\"]"
   ]
  },
  {
   "cell_type": "markdown",
   "metadata": {},
   "source": [
    "<CENTER><H3>FREQUENCE DES MOTS</H3></CENTER>"
   ]
  },
  {
   "cell_type": "code",
   "execution_count": 31,
   "metadata": {},
   "outputs": [],
   "source": [
    "freqMots = {}\n",
    "for doc in list(data[\"Title_Body_Code_Cleaned\"]):\n",
    "    for mot in doc.split():\n",
    "        if mot in freqMots.keys():\n",
    "            freqMots[mot] += 1\n",
    "        else:\n",
    "            freqMots[mot] = 1"
   ]
  },
  {
   "cell_type": "code",
   "execution_count": 32,
   "metadata": {},
   "outputs": [],
   "source": [
    "df_freqMots = pd.DataFrame({\"mot\": list(freqMots.keys()), \"freq\": list(freqMots.values())}).sort_values(\"freq\", ascending = False)"
   ]
  },
  {
   "cell_type": "code",
   "execution_count": 33,
   "metadata": {},
   "outputs": [
    {
     "data": {
      "text/html": [
       "<div>\n",
       "<style scoped>\n",
       "    .dataframe tbody tr th:only-of-type {\n",
       "        vertical-align: middle;\n",
       "    }\n",
       "\n",
       "    .dataframe tbody tr th {\n",
       "        vertical-align: top;\n",
       "    }\n",
       "\n",
       "    .dataframe thead th {\n",
       "        text-align: right;\n",
       "    }\n",
       "</style>\n",
       "<table border=\"1\" class=\"dataframe\">\n",
       "  <thead>\n",
       "    <tr style=\"text-align: right;\">\n",
       "      <th></th>\n",
       "      <th>freq</th>\n",
       "    </tr>\n",
       "  </thead>\n",
       "  <tbody>\n",
       "    <tr>\n",
       "      <th>count</th>\n",
       "      <td>52399.000000</td>\n",
       "    </tr>\n",
       "    <tr>\n",
       "      <th>mean</th>\n",
       "      <td>43.405580</td>\n",
       "    </tr>\n",
       "    <tr>\n",
       "      <th>std</th>\n",
       "      <td>507.100584</td>\n",
       "    </tr>\n",
       "    <tr>\n",
       "      <th>min</th>\n",
       "      <td>1.000000</td>\n",
       "    </tr>\n",
       "    <tr>\n",
       "      <th>25%</th>\n",
       "      <td>1.000000</td>\n",
       "    </tr>\n",
       "    <tr>\n",
       "      <th>50%</th>\n",
       "      <td>1.000000</td>\n",
       "    </tr>\n",
       "    <tr>\n",
       "      <th>75%</th>\n",
       "      <td>3.000000</td>\n",
       "    </tr>\n",
       "    <tr>\n",
       "      <th>max</th>\n",
       "      <td>51524.000000</td>\n",
       "    </tr>\n",
       "  </tbody>\n",
       "</table>\n",
       "</div>"
      ],
      "text/plain": [
       "               freq\n",
       "count  52399.000000\n",
       "mean      43.405580\n",
       "std      507.100584\n",
       "min        1.000000\n",
       "25%        1.000000\n",
       "50%        1.000000\n",
       "75%        3.000000\n",
       "max    51524.000000"
      ]
     },
     "execution_count": 33,
     "metadata": {},
     "output_type": "execute_result"
    }
   ],
   "source": [
    "df_freqMots.describe()"
   ]
  },
  {
   "cell_type": "code",
   "execution_count": 34,
   "metadata": {},
   "outputs": [
    {
     "data": {
      "text/plain": [
       "(0, 8)"
      ]
     },
     "execution_count": 34,
     "metadata": {},
     "output_type": "execute_result"
    },
    {
     "data": {
      "image/png": "[encoded data removed]",
      "text/plain": [
       "<Figure size 432x576 with 1 Axes>"
      ]
     },
     "metadata": {},
     "output_type": "display_data"
    }
   ],
   "source": [
    "plt.figure(figsize = (6, 8))\n",
    "sb.boxplot(df_freqMots[\"freq\"], orient = \"v\")\n",
    "plt.ylim((0, 8))"
   ]
  },
  {
   "cell_type": "code",
   "execution_count": 35,
   "metadata": {},
   "outputs": [
    {
     "data": {
      "text/html": [
       "<div>\n",
       "<style scoped>\n",
       "    .dataframe tbody tr th:only-of-type {\n",
       "        vertical-align: middle;\n",
       "    }\n",
       "\n",
       "    .dataframe tbody tr th {\n",
       "        vertical-align: top;\n",
       "    }\n",
       "\n",
       "    .dataframe thead th {\n",
       "        text-align: right;\n",
       "    }\n",
       "</style>\n",
       "<table border=\"1\" class=\"dataframe\">\n",
       "  <thead>\n",
       "    <tr style=\"text-align: right;\">\n",
       "      <th></th>\n",
       "      <th>freq</th>\n",
       "    </tr>\n",
       "  </thead>\n",
       "  <tbody>\n",
       "    <tr>\n",
       "      <th>0.00</th>\n",
       "      <td>1.0</td>\n",
       "    </tr>\n",
       "    <tr>\n",
       "      <th>0.05</th>\n",
       "      <td>1.0</td>\n",
       "    </tr>\n",
       "    <tr>\n",
       "      <th>0.10</th>\n",
       "      <td>1.0</td>\n",
       "    </tr>\n",
       "    <tr>\n",
       "      <th>0.15</th>\n",
       "      <td>1.0</td>\n",
       "    </tr>\n",
       "    <tr>\n",
       "      <th>0.20</th>\n",
       "      <td>1.0</td>\n",
       "    </tr>\n",
       "    <tr>\n",
       "      <th>0.25</th>\n",
       "      <td>1.0</td>\n",
       "    </tr>\n",
       "    <tr>\n",
       "      <th>0.30</th>\n",
       "      <td>1.0</td>\n",
       "    </tr>\n",
       "    <tr>\n",
       "      <th>0.35</th>\n",
       "      <td>1.0</td>\n",
       "    </tr>\n",
       "    <tr>\n",
       "      <th>0.40</th>\n",
       "      <td>1.0</td>\n",
       "    </tr>\n",
       "    <tr>\n",
       "      <th>0.45</th>\n",
       "      <td>1.0</td>\n",
       "    </tr>\n",
       "    <tr>\n",
       "      <th>0.50</th>\n",
       "      <td>1.0</td>\n",
       "    </tr>\n",
       "    <tr>\n",
       "      <th>0.55</th>\n",
       "      <td>2.0</td>\n",
       "    </tr>\n",
       "    <tr>\n",
       "      <th>0.60</th>\n",
       "      <td>2.0</td>\n",
       "    </tr>\n",
       "    <tr>\n",
       "      <th>0.65</th>\n",
       "      <td>2.0</td>\n",
       "    </tr>\n",
       "    <tr>\n",
       "      <th>0.70</th>\n",
       "      <td>3.0</td>\n",
       "    </tr>\n",
       "    <tr>\n",
       "      <th>0.75</th>\n",
       "      <td>3.0</td>\n",
       "    </tr>\n",
       "    <tr>\n",
       "      <th>0.80</th>\n",
       "      <td>5.0</td>\n",
       "    </tr>\n",
       "    <tr>\n",
       "      <th>0.85</th>\n",
       "      <td>7.0</td>\n",
       "    </tr>\n",
       "    <tr>\n",
       "      <th>0.90</th>\n",
       "      <td>15.0</td>\n",
       "    </tr>\n",
       "    <tr>\n",
       "      <th>0.95</th>\n",
       "      <td>58.0</td>\n",
       "    </tr>\n",
       "  </tbody>\n",
       "</table>\n",
       "</div>"
      ],
      "text/plain": [
       "      freq\n",
       "0.00   1.0\n",
       "0.05   1.0\n",
       "0.10   1.0\n",
       "0.15   1.0\n",
       "0.20   1.0\n",
       "0.25   1.0\n",
       "0.30   1.0\n",
       "0.35   1.0\n",
       "0.40   1.0\n",
       "0.45   1.0\n",
       "0.50   1.0\n",
       "0.55   2.0\n",
       "0.60   2.0\n",
       "0.65   2.0\n",
       "0.70   3.0\n",
       "0.75   3.0\n",
       "0.80   5.0\n",
       "0.85   7.0\n",
       "0.90  15.0\n",
       "0.95  58.0"
      ]
     },
     "execution_count": 35,
     "metadata": {},
     "output_type": "execute_result"
    }
   ],
   "source": [
    "df_freqMots[[\"freq\"]].quantile([i / 100 for i in range(0, 100, 5)])"
   ]
  },
  {
   "cell_type": "markdown",
   "metadata": {},
   "source": [
    "+ 50 % des mots n'apparaissent qu'une fois dans tout le corpus"
   ]
  },
  {
   "cell_type": "code",
   "execution_count": 36,
   "metadata": {},
   "outputs": [
    {
     "data": {
      "image/png": "[encoded data removed]",
      "text/plain": [
       "<Figure size 1080x576 with 1 Axes>"
      ]
     },
     "metadata": {},
     "output_type": "display_data"
    }
   ],
   "source": [
    "plt.figure(figsize = (15, 8))\n",
    "sb.barplot(x = df_freqMots['mot'][:50], y = df_freqMots['freq'])\n",
    "plt.title(\"Palmares des 50 premiers mots\")\n",
    "plt.xticks(rotation = 45, horizontalalignment = \"right\")\n",
    "plt.ylabel(\"Fréquence mot\")\n",
    "plt.savefig(\"freqMot.png\", dpi = 300)"
   ]
  },
  {
   "cell_type": "code",
   "execution_count": 37,
   "metadata": {},
   "outputs": [],
   "source": [
    "freqDocMot = {}\n",
    "for doc in list(data[\"Title_Body_Code_Cleaned\"]):\n",
    "    for mot in set(doc.split()):\n",
    "        if mot in freqDocMot:\n",
    "            freqDocMot[mot] += 1\n",
    "        else:\n",
    "            freqDocMot[mot] = 1\n",
    "\n",
    "df_freqDocMot = pd.DataFrame({\"mot\": list(freqDocMot.keys()), \"freqDocMot\": list(freqDocMot.values())}).sort_values(by = \"freqDocMot\", ascending = False)"
   ]
  },
  {
   "cell_type": "code",
   "execution_count": 38,
   "metadata": {
    "scrolled": true
   },
   "outputs": [
    {
     "data": {
      "text/html": [
       "<div>\n",
       "<style scoped>\n",
       "    .dataframe tbody tr th:only-of-type {\n",
       "        vertical-align: middle;\n",
       "    }\n",
       "\n",
       "    .dataframe tbody tr th {\n",
       "        vertical-align: top;\n",
       "    }\n",
       "\n",
       "    .dataframe thead th {\n",
       "        text-align: right;\n",
       "    }\n",
       "</style>\n",
       "<table border=\"1\" class=\"dataframe\">\n",
       "  <thead>\n",
       "    <tr style=\"text-align: right;\">\n",
       "      <th></th>\n",
       "      <th>freqDocMot</th>\n",
       "    </tr>\n",
       "  </thead>\n",
       "  <tbody>\n",
       "    <tr>\n",
       "      <th>count</th>\n",
       "      <td>52399.000000</td>\n",
       "    </tr>\n",
       "    <tr>\n",
       "      <th>mean</th>\n",
       "      <td>28.136606</td>\n",
       "    </tr>\n",
       "    <tr>\n",
       "      <th>std</th>\n",
       "      <td>313.294052</td>\n",
       "    </tr>\n",
       "    <tr>\n",
       "      <th>min</th>\n",
       "      <td>1.000000</td>\n",
       "    </tr>\n",
       "    <tr>\n",
       "      <th>25%</th>\n",
       "      <td>1.000000</td>\n",
       "    </tr>\n",
       "    <tr>\n",
       "      <th>50%</th>\n",
       "      <td>1.000000</td>\n",
       "    </tr>\n",
       "    <tr>\n",
       "      <th>75%</th>\n",
       "      <td>2.000000</td>\n",
       "    </tr>\n",
       "    <tr>\n",
       "      <th>max</th>\n",
       "      <td>26952.000000</td>\n",
       "    </tr>\n",
       "  </tbody>\n",
       "</table>\n",
       "</div>"
      ],
      "text/plain": [
       "         freqDocMot\n",
       "count  52399.000000\n",
       "mean      28.136606\n",
       "std      313.294052\n",
       "min        1.000000\n",
       "25%        1.000000\n",
       "50%        1.000000\n",
       "75%        2.000000\n",
       "max    26952.000000"
      ]
     },
     "execution_count": 38,
     "metadata": {},
     "output_type": "execute_result"
    }
   ],
   "source": [
    "df_freqDocMot.describe()"
   ]
  },
  {
   "cell_type": "code",
   "execution_count": 39,
   "metadata": {},
   "outputs": [
    {
     "data": {
      "text/html": [
       "<div>\n",
       "<style scoped>\n",
       "    .dataframe tbody tr th:only-of-type {\n",
       "        vertical-align: middle;\n",
       "    }\n",
       "\n",
       "    .dataframe tbody tr th {\n",
       "        vertical-align: top;\n",
       "    }\n",
       "\n",
       "    .dataframe thead th {\n",
       "        text-align: right;\n",
       "    }\n",
       "</style>\n",
       "<table border=\"1\" class=\"dataframe\">\n",
       "  <thead>\n",
       "    <tr style=\"text-align: right;\">\n",
       "      <th></th>\n",
       "      <th>freqDocMot</th>\n",
       "    </tr>\n",
       "  </thead>\n",
       "  <tbody>\n",
       "    <tr>\n",
       "      <th>0.00</th>\n",
       "      <td>1.0</td>\n",
       "    </tr>\n",
       "    <tr>\n",
       "      <th>0.05</th>\n",
       "      <td>1.0</td>\n",
       "    </tr>\n",
       "    <tr>\n",
       "      <th>0.10</th>\n",
       "      <td>1.0</td>\n",
       "    </tr>\n",
       "    <tr>\n",
       "      <th>0.15</th>\n",
       "      <td>1.0</td>\n",
       "    </tr>\n",
       "    <tr>\n",
       "      <th>0.20</th>\n",
       "      <td>1.0</td>\n",
       "    </tr>\n",
       "    <tr>\n",
       "      <th>0.25</th>\n",
       "      <td>1.0</td>\n",
       "    </tr>\n",
       "    <tr>\n",
       "      <th>0.30</th>\n",
       "      <td>1.0</td>\n",
       "    </tr>\n",
       "    <tr>\n",
       "      <th>0.35</th>\n",
       "      <td>1.0</td>\n",
       "    </tr>\n",
       "    <tr>\n",
       "      <th>0.40</th>\n",
       "      <td>1.0</td>\n",
       "    </tr>\n",
       "    <tr>\n",
       "      <th>0.45</th>\n",
       "      <td>1.0</td>\n",
       "    </tr>\n",
       "    <tr>\n",
       "      <th>0.50</th>\n",
       "      <td>1.0</td>\n",
       "    </tr>\n",
       "    <tr>\n",
       "      <th>0.55</th>\n",
       "      <td>1.0</td>\n",
       "    </tr>\n",
       "    <tr>\n",
       "      <th>0.60</th>\n",
       "      <td>1.0</td>\n",
       "    </tr>\n",
       "    <tr>\n",
       "      <th>0.65</th>\n",
       "      <td>1.0</td>\n",
       "    </tr>\n",
       "    <tr>\n",
       "      <th>0.70</th>\n",
       "      <td>2.0</td>\n",
       "    </tr>\n",
       "    <tr>\n",
       "      <th>0.75</th>\n",
       "      <td>2.0</td>\n",
       "    </tr>\n",
       "    <tr>\n",
       "      <th>0.80</th>\n",
       "      <td>3.0</td>\n",
       "    </tr>\n",
       "    <tr>\n",
       "      <th>0.85</th>\n",
       "      <td>4.3</td>\n",
       "    </tr>\n",
       "    <tr>\n",
       "      <th>0.90</th>\n",
       "      <td>9.0</td>\n",
       "    </tr>\n",
       "    <tr>\n",
       "      <th>0.95</th>\n",
       "      <td>36.0</td>\n",
       "    </tr>\n",
       "  </tbody>\n",
       "</table>\n",
       "</div>"
      ],
      "text/plain": [
       "      freqDocMot\n",
       "0.00         1.0\n",
       "0.05         1.0\n",
       "0.10         1.0\n",
       "0.15         1.0\n",
       "0.20         1.0\n",
       "0.25         1.0\n",
       "0.30         1.0\n",
       "0.35         1.0\n",
       "0.40         1.0\n",
       "0.45         1.0\n",
       "0.50         1.0\n",
       "0.55         1.0\n",
       "0.60         1.0\n",
       "0.65         1.0\n",
       "0.70         2.0\n",
       "0.75         2.0\n",
       "0.80         3.0\n",
       "0.85         4.3\n",
       "0.90         9.0\n",
       "0.95        36.0"
      ]
     },
     "execution_count": 39,
     "metadata": {},
     "output_type": "execute_result"
    }
   ],
   "source": [
    "df_freqDocMot[['freqDocMot']].quantile([i / 100 for i in range(0, 100, 5)])"
   ]
  },
  {
   "cell_type": "markdown",
   "metadata": {},
   "source": [
    "+ 75% des mots ne figurent que dans un seul document"
   ]
  },
  {
   "cell_type": "code",
   "execution_count": 40,
   "metadata": {},
   "outputs": [
    {
     "data": {
      "image/png": "[encoded data removed]",
      "text/plain": [
       "<Figure size 1080x576 with 1 Axes>"
      ]
     },
     "metadata": {},
     "output_type": "display_data"
    }
   ],
   "source": [
    "plt.figure(figsize = (15, 8))\n",
    "sb.barplot(x = df_freqDocMot['mot'][:50], y = df_freqDocMot['freqDocMot'])\n",
    "plt.title(\"Palmares des 50 premiers mots\")\n",
    "plt.xticks(rotation = 45, horizontalalignment = \"right\")\n",
    "plt.ylabel(\"Nombre de doc par mot\")\n",
    "plt.savefig(\"freqDocMot.png\", dpi = 300)"
   ]
  },
  {
   "cell_type": "markdown",
   "metadata": {},
   "source": [
    "<CENTER><H2>RECHERCHE D'UN MODELE</H2></CENTER>"
   ]
  },
  {
   "cell_type": "markdown",
   "metadata": {},
   "source": [
    "<CENTER><H2>CREATION JEU ENTRAINEMENT ET JEU TEST</H2></CENTER>"
   ]
  },
  {
   "cell_type": "markdown",
   "metadata": {},
   "source": [
    "Création d'un jeu d'entrainement et d'un jeu de test, conjointement pour:\n",
    "+ la base \"Title_Body_Code_Cleaned\"\n",
    "+ la base \"Tags_Cleaned\""
   ]
  },
  {
   "cell_type": "code",
   "execution_count": 41,
   "metadata": {},
   "outputs": [],
   "source": [
    "Quest_train, Quest_test, Tags_train, Tags_test = train_test_split(data[['Title_Body_Code_Cleaned']], data[['TagsCleaned']], test_size = 0.2)"
   ]
  },
  {
   "cell_type": "markdown",
   "metadata": {},
   "source": [
    "<CENTER><H3>COUNT VECTORISOR - VECTORISATION DU TAGS_TRAIN</H3></CENTER>"
   ]
  },
  {
   "cell_type": "code",
   "execution_count": 42,
   "metadata": {},
   "outputs": [],
   "source": [
    "countVectorizor_tags = CountVectorizer(token_pattern = \"[^,]+\").fit(Tags_train['TagsCleaned'])\n",
    "Tags_train_vect = countVectorizor_tags.transform(Tags_train['TagsCleaned'])"
   ]
  },
  {
   "cell_type": "code",
   "execution_count": 43,
   "metadata": {},
   "outputs": [],
   "source": [
    "dictionnaire_tags = countVectorizor_tags.get_feature_names()"
   ]
  },
  {
   "cell_type": "code",
   "execution_count": 44,
   "metadata": {},
   "outputs": [
    {
     "data": {
      "text/plain": [
       "'Nombre de tags dans le dictionnaire: 481'"
      ]
     },
     "execution_count": 44,
     "metadata": {},
     "output_type": "execute_result"
    }
   ],
   "source": [
    "#Nombre de tags présents dans le jeu d'entrainement\n",
    "\"Nombre de tags dans le dictionnaire: {}\".format(len(dictionnaire_tags))"
   ]
  },
  {
   "cell_type": "markdown",
   "metadata": {},
   "source": [
    "<CENTER><H3>COUNT VECTORISOR - VECTORISATION DU TAGS_TEST</H3><CENTER>"
   ]
  },
  {
   "cell_type": "code",
   "execution_count": 45,
   "metadata": {},
   "outputs": [],
   "source": [
    "Tags_test_vect = countVectorizor_tags.transform(Tags_test['TagsCleaned'])"
   ]
  },
  {
   "cell_type": "markdown",
   "metadata": {},
   "source": [
    "<CENTER><H3>CREATION DU DICTIONNAIRE</H3></CENTER>"
   ]
  },
  {
   "cell_type": "code",
   "execution_count": 46,
   "metadata": {},
   "outputs": [],
   "source": [
    "titleBodyCodeCleaned = [[m for m in q.split()] for q in list(Quest_train[\"Title_Body_Code_Cleaned\"]) ] \n",
    "dictionary = corpora.Dictionary(titleBodyCodeCleaned)"
   ]
  },
  {
   "cell_type": "code",
   "execution_count": 47,
   "metadata": {},
   "outputs": [
    {
     "data": {
      "text/plain": [
       "'Il y a 45075 mots dans le corpus'"
      ]
     },
     "execution_count": 47,
     "metadata": {},
     "output_type": "execute_result"
    }
   ],
   "source": [
    "dictionary_backup = copy.copy(dictionary)\n",
    "\"Il y a {} mots dans le corpus\".format(len(dictionary.token2id))"
   ]
  },
  {
   "cell_type": "code",
   "execution_count": 48,
   "metadata": {},
   "outputs": [
    {
     "data": {
      "text/plain": [
       "'Il reste 9821 mots dans le corpus'"
      ]
     },
     "execution_count": 48,
     "metadata": {},
     "output_type": "execute_result"
    }
   ],
   "source": [
    "#On élimine les mots qui sont présent dans 1 ou 2 documents\n",
    "#On élimine les mots présents dans 99% ou plus des documents\n",
    "dictionary.filter_extremes(no_below=3, no_above=0.03)\n",
    "\n",
    "\"Il reste {} mots dans le corpus\".format(len(dictionary.token2id))"
   ]
  },
  {
   "cell_type": "markdown",
   "metadata": {},
   "source": [
    "<CENTER><H3>COUNT VECTORISOR - VECTORISATION DU QUEST_TRAIN</H3></CENTER>"
   ]
  },
  {
   "cell_type": "code",
   "execution_count": 49,
   "metadata": {},
   "outputs": [],
   "source": [
    "#Construire un numpy Array documents par vocabulaire\n",
    "CountVectorizer_Quest = CountVectorizer(vocabulary = dictionary.token2id).fit(Quest_train[\"Title_Body_Code_Cleaned\"])\n",
    "#Construction d'une matrice numpy Array documents par vocabulaire\n",
    "Quest_train_vect = CountVectorizer_Quest.transform(Quest_train[\"Title_Body_Code_Cleaned\"])"
   ]
  },
  {
   "cell_type": "markdown",
   "metadata": {},
   "source": [
    "<CENTER><H3>COUNT VECTORISOR - VECTORISATION DU QUEST_TEST</H3></CENTER>"
   ]
  },
  {
   "cell_type": "code",
   "execution_count": 50,
   "metadata": {},
   "outputs": [],
   "source": [
    "Quest_test_vect = CountVectorizer_Quest.transform(Quest_test[\"Title_Body_Code_Cleaned\"])"
   ]
  },
  {
   "cell_type": "markdown",
   "metadata": {},
   "source": [
    "<CENTER><H2>TOPIC MODELING AVEC LDA</H2></CENTER>"
   ]
  },
  {
   "cell_type": "markdown",
   "metadata": {},
   "source": [
    "<CENTER><H3>RECHERCHE DU NOMBRE DE \"TOPICS\" OPTIMAL LDA</H3></CENTER>"
   ]
  },
  {
   "cell_type": "markdown",
   "metadata": {},
   "source": [
    "Plusieurs leviers:\n",
    "+ le nombre de tags retenus\n",
    "+ le dictionnaires: jouer sur les seuils de TDF (term document frequency) --> Influence le corpus\n",
    "+ sur le nombre de Topics\n",
    "+ sur la \"forme\" du corpus: BoW, TFIDF"
   ]
  },
  {
   "cell_type": "markdown",
   "metadata": {},
   "source": [
    "<CENTER><H3>RECHERCHE DU NOMBRE DE TOPICS OPTIMALS AVEC CORPUS BOW</H3></CENTER>"
   ]
  },
  {
   "cell_type": "code",
   "execution_count": 51,
   "metadata": {
    "scrolled": true
   },
   "outputs": [
    {
     "name": "stderr",
     "output_type": "stream",
     "text": [
      "d:\\Users\\Khaled-Khodja\\AppData\\Local\\Continuum\\anaconda3\\lib\\site-packages\\gensim\\models\\ldamodel.py:775: RuntimeWarning: divide by zero encountered in log\n",
      "  diff = np.log(self.expElogbeta)\n"
     ]
    },
    {
     "name": "stdout",
     "output_type": "stream",
     "text": [
      "****Nombre Topics 100 ****\n",
      "0.12608390380902124\n",
      "0.30091756730777325\n",
      "****Nombre Topics 200 ****\n",
      "0.1476040021063738\n",
      "0.3434606768808993\n",
      "****Nombre Topics 300 ****\n",
      "0.15769703352642053\n",
      "0.3658770698028214\n",
      "****Nombre Topics 400 ****\n",
      "0.173231525364231\n",
      "0.39712371590728657\n",
      "****Nombre Topics 500 ****\n",
      "0.18318413199930234\n",
      "0.41757219756429925\n",
      "****Nombre Topics 600 ****\n",
      "0.19213621204143036\n",
      "0.4368581208154676\n",
      "****Nombre Topics 700 ****\n",
      "0.19564683166579386\n",
      "0.44421178230814906\n",
      "****Nombre Topics 800 ****\n",
      "0.2010531858873144\n",
      "0.45451461504384166\n",
      "****Nombre Topics 900 ****\n",
      "0.20598560645954556\n",
      "0.46868435350267956\n",
      "****Nombre Topics 1000 ****\n",
      "0.2125153589608613\n",
      "0.4827237393114158\n",
      "****Nombre Topics 1100 ****\n",
      "0.21383184131999802\n",
      "0.4847330675292762\n",
      "****Nombre Topics 1200 ****\n",
      "0.21649991223451445\n",
      "0.4907809039009678\n",
      "****Nombre Topics 1300 ****\n",
      "0.22116903633491738\n",
      "0.5013220408402079\n",
      "****Nombre Topics 1400 ****\n",
      "0.21930840793400472\n",
      "0.49753015371498754\n",
      "****Nombre Topics 1500 ****\n",
      "0.21995787256451227\n",
      "0.49893410901309787\n",
      "****Nombre Topics 1600 ****\n",
      "0.2243285939968444\n",
      "0.5083535611892642\n",
      "Wall time: 37min 53s\n"
     ]
    }
   ],
   "source": [
    "%%time\n",
    "repsLDA_bow = []\n",
    "#Model LDA avec un corpus BoW\n",
    "#Création BoW pour le jeu d'entrainement\n",
    "tokenized_list = [simple_preprocess(doc) for doc in list(Quest_train['Title_Body_Code_Cleaned'])]\n",
    "corpus_bow_train = [dictionary.doc2bow(doc, allow_update = False) for doc in tokenized_list]\n",
    "#Création BoW pour le jeu de test\n",
    "tokenized_list_test = [simple_preprocess(doc) for doc in list(Quest_test['Title_Body_Code_Cleaned'])]\n",
    "corpus_bow_test = [dictionary.doc2bow(doc, allow_update = False) for doc in tokenized_list_test]\n",
    "\n",
    "precision_lda_bow = []\n",
    "rappel_lda_bow = []\n",
    "\n",
    "for nbreTopics in range(100, 1700, 100):\n",
    "    #Prédiction des tags avec le modèle LDA et le BoW\n",
    "    repLDA_bow = tagsPredictLDA(nbreTopics, corpus_bow_train, corpus_bow_test, dictionary, Tags_train_vect, Tags_test, dictionnaire_tags)\n",
    "    repsLDA_bow.append(repLDA_bow)\n",
    "    print(\"****Nombre Topics {} ****\".format(nbreTopics))\n",
    "    print(repLDA_bow[\"Precision\"].mean())\n",
    "    print(repLDA_bow[\"Rappel\"].mean())\n",
    "    precision_lda_bow.append(repLDA_bow[\"Precision\"].mean())\n",
    "    rappel_lda_bow.append(repLDA_bow[\"Rappel\"].mean())"
   ]
  },
  {
   "cell_type": "code",
   "execution_count": 52,
   "metadata": {},
   "outputs": [],
   "source": [
    "a = np.array(precision_lda_bow) * np.array(rappel_lda_bow)\n",
    "b = np.array(precision_lda_bow) + np.array(rappel_lda_bow)\n",
    "c = a / b\n",
    "F_score = 2 * c"
   ]
  },
  {
   "cell_type": "code",
   "execution_count": 53,
   "metadata": {},
   "outputs": [],
   "source": [
    "nTopics = [i for i in range(100, 1700, 100)]"
   ]
  },
  {
   "cell_type": "code",
   "execution_count": 54,
   "metadata": {},
   "outputs": [
    {
     "data": {
      "image/png": "[encoded data removed]",
      "text/plain": [
       "<Figure size 1080x720 with 1 Axes>"
      ]
     },
     "metadata": {},
     "output_type": "display_data"
    }
   ],
   "source": [
    "plt.figure(figsize = (15, 10))\n",
    "plt.plot(nTopics, precision_lda_bow, label = \"precision\")\n",
    "plt.plot(nTopics, rappel_lda_bow, label= \"rappel\")\n",
    "plt.plot(nTopics, F_score, label = \"F-Score\")\n",
    "plt.title(\"Performance de prédiction du modèle LDA en fonction du nobre de Topics\")\n",
    "plt.xlabel(\"Nombre de topics - LDA\")\n",
    "plt.ylabel(\"Taux\")\n",
    "plt.legend()\n",
    "plt.savefig(\"performance_lda.png\", dpi = 300)"
   ]
  },
  {
   "cell_type": "markdown",
   "metadata": {},
   "source": [
    "<CENTER><H3>RECHERCHE DU NOMBRE DE MOTS OPTIMUM A CONSERVER</H3></CENTER>"
   ]
  },
  {
   "cell_type": "code",
   "execution_count": 55,
   "metadata": {},
   "outputs": [
    {
     "name": "stdout",
     "output_type": "stream",
     "text": [
      "****max doc: 0.01 ****\n",
      "0.2030191328769575\n",
      "0.46515329705692987\n",
      "****max doc: 0.02 ****\n",
      "0.21962436370019808\n",
      "0.497149961968286\n",
      "****max doc: 0.03 ****\n",
      "0.21827277514481755\n",
      "0.4926074709329053\n",
      "****max doc: 0.04 ****\n",
      "0.20300157977883618\n",
      "0.4645577455135119\n",
      "****max doc: 0.05 ****\n",
      "0.1962787431981791\n",
      "0.44896420003845017\n",
      "****max doc: 0.06 ****\n",
      "0.18676496401615322\n",
      "0.4301021423138337\n",
      "****max doc: 0.07 ****\n",
      "0.1790942601369188\n",
      "0.414932629537686\n",
      "****max doc: 0.08 ****\n",
      "0.16757942776900506\n",
      "0.3900549579143589\n",
      "****max doc: 0.09 ****\n",
      "0.16466561348078282\n",
      "0.38497492414554146\n",
      "****max doc: 0.1 ****\n",
      "0.1575390556433241\n",
      "0.37001120054832604\n",
      "****max doc: 0.2 ****\n",
      "0.13550991750043984\n",
      "0.32286604478547687\n",
      "****max doc: 0.3 ****\n",
      "0.12280147446024063\n",
      "0.2960436152695239\n",
      "****max doc: 0.4 ****\n",
      "0.11549938564156213\n",
      "0.2814162424667952\n",
      "****max doc: 0.5 ****\n",
      "0.11242759347024282\n",
      "0.27379255581467254\n",
      "****max doc: 0.6 ****\n",
      "0.10498507986659071\n",
      "0.2587874152645083\n",
      "****max doc: 0.7 ****\n",
      "0.10500263296471256\n",
      "0.2586880730877567\n",
      "****max doc: 0.8 ****\n",
      "0.1053536949271489\n",
      "0.25954065213938815\n",
      "****max doc: 0.9 ****\n",
      "0.10521327014217438\n",
      "0.2587941439521217\n",
      "Wall time: 1h 18min 32s\n"
     ]
    }
   ],
   "source": [
    "%%time\n",
    "repsLDA_bow = []\n",
    "\n",
    "filtreDoc = [0.01, 0.02, 0.03, 0.04, 0.05, 0.06, 0.07, 0.08, 0.09, 0.1, 0.2, 0.3, 0.4, 0.5, 0.6, 0.7, 0.8, 0.9]\n",
    "\n",
    "precision_lda_bow2 = []\n",
    "rappel_lda_bow2 = []\n",
    "\n",
    "for i in filtreDoc:    \n",
    "    dictionary = corpora.Dictionary(titleBodyCodeCleaned)\n",
    "    dictionary.filter_extremes(no_below=3, no_above=i)\n",
    "    #Construire un numpy Array documents par vocabulaire\n",
    "    CountVectorizer_Quest = CountVectorizer(vocabulary = dictionary.token2id).fit(Quest_train[\"Title_Body_Code_Cleaned\"])\n",
    "    #Construction d'une matrice numpy Array documents par vocabulaire\n",
    "    Quest_train_vect = CountVectorizer_Quest.transform(Quest_train[\"Title_Body_Code_Cleaned\"])\n",
    "    Quest_test_vect = CountVectorizer_Quest.transform(Quest_test[\"Title_Body_Code_Cleaned\"])\n",
    "\n",
    "    #Model LDA avec un corpus BoW\n",
    "    #Création BoW pour le jeu d'entrainement\n",
    "    tokenized_list = [simple_preprocess(doc) for doc in list(Quest_train['Title_Body_Code_Cleaned'])]\n",
    "    corpus_bow_train = [dictionary.doc2bow(doc, allow_update = False) for doc in tokenized_list]\n",
    "    #Création BoW pour le jeu de test\n",
    "    tokenized_list_test = [simple_preprocess(doc) for doc in list(Quest_test['Title_Body_Code_Cleaned'])]\n",
    "    corpus_bow_test = [dictionary.doc2bow(doc, allow_update = False) for doc in tokenized_list_test]\n",
    "    \n",
    "    nbreTopics = 1300\n",
    "\n",
    "    #Prédiction des tags avec le modèle LDA et le BoW\n",
    "    repLDA_bow = tagsPredictLDA(nbreTopics, corpus_bow_train, corpus_bow_test, dictionary, Tags_train_vect, Tags_test, dictionnaire_tags)\n",
    "    print(\"****max doc: {} ****\".format(i))\n",
    "    print(repLDA_bow[\"Precision\"].mean())\n",
    "    print(repLDA_bow[\"Rappel\"].mean())\n",
    "    precision_lda_bow2.append(repLDA_bow[\"Precision\"].mean())\n",
    "    rappel_lda_bow2.append(repLDA_bow[\"Rappel\"].mean())\n",
    "    "
   ]
  },
  {
   "cell_type": "code",
   "execution_count": 56,
   "metadata": {},
   "outputs": [],
   "source": [
    "f_score = 2 * np.array(precision_lda_bow2) * np.array(rappel_lda_bow2) / (np.array(precision_lda_bow2) + np.array(rappel_lda_bow2))"
   ]
  },
  {
   "cell_type": "code",
   "execution_count": 57,
   "metadata": {},
   "outputs": [
    {
     "data": {
      "image/png": "[encoded data removed]",
      "text/plain": [
       "<Figure size 1080x720 with 1 Axes>"
      ]
     },
     "metadata": {},
     "output_type": "display_data"
    }
   ],
   "source": [
    "plt.figure(figsize = (15, 10))\n",
    "plt.plot(filtreDoc, precision_lda_bow2, label = \"precision\")\n",
    "plt.plot(filtreDoc, rappel_lda_bow2, label= \"rappel\")\n",
    "plt.plot(filtreDoc, f_score, label = \"F-Score\")\n",
    "plt.title(\"Performance de prédiction du modèle LDA en fonction du nombre de mots conservés\")\n",
    "plt.xlabel(\"Taux maximum apparition mot dans le corpus\")\n",
    "plt.ylabel(\"Taux\")\n",
    "plt.legend()\n",
    "plt.savefig(\"performance_lda2.png\", dpi = 300)"
   ]
  },
  {
   "cell_type": "markdown",
   "metadata": {},
   "source": [
    "<CENTER><H3>CORPUS BOW</H3></CENTER>"
   ]
  },
  {
   "cell_type": "code",
   "execution_count": 58,
   "metadata": {},
   "outputs": [
    {
     "name": "stdout",
     "output_type": "stream",
     "text": [
      "0.22297700544146448\n",
      "0.5051306452017353\n",
      "Wall time: 4min 14s\n"
     ]
    }
   ],
   "source": [
    "%%time\n",
    "#Model LDA avec un corpus BoW\n",
    "nbreTopics = 1500\n",
    "#Création BoW pour le jeu d'entrainement\n",
    "\n",
    "tokenized_list = [simple_preprocess(doc) for doc in list(Quest_train['Title_Body_Code_Cleaned'])]\n",
    "dictionary = copy.copy(dictionary_backup)\n",
    "dictionary.filter_extremes(no_below=3, no_above=0.03)\n",
    "CountVectorizer_Quest = CountVectorizer(vocabulary = dictionary.token2id).fit(Quest_train[\"Title_Body_Code_Cleaned\"])\n",
    "Quest_train_vect = CountVectorizer_Quest.transform(Quest_train[\"Title_Body_Code_Cleaned\"])\n",
    "corpus_bow_train = [dictionary.doc2bow(doc, allow_update = False) for doc in tokenized_list]\n",
    "#Création BoW pour le jeu de test\n",
    "tokenized_list_test = [simple_preprocess(doc) for doc in list(Quest_test['Title_Body_Code_Cleaned'])]\n",
    "corpus_bow_test = [dictionary.doc2bow(doc, allow_update = False) for doc in tokenized_list_test]\n",
    "#Prédiction des tags avec le modèle LDA et le BOW\n",
    "repLDA_bow = tagsPredictLDA(nbreTopics, corpus_bow_train, corpus_bow_test, dictionary, Tags_train_vect, Tags_test, dictionnaire_tags)\n",
    "print(repLDA_bow[\"Precision\"].mean())\n",
    "print(repLDA_bow[\"Rappel\"].mean())"
   ]
  },
  {
   "cell_type": "markdown",
   "metadata": {},
   "source": [
    "<CENTER><H3>CORPUS TFIDF</H3></CENTER>"
   ]
  },
  {
   "cell_type": "code",
   "execution_count": 59,
   "metadata": {},
   "outputs": [
    {
     "name": "stderr",
     "output_type": "stream",
     "text": [
      "d:\\Users\\Khaled-Khodja\\AppData\\Local\\Continuum\\anaconda3\\lib\\site-packages\\gensim\\models\\ldamodel.py:582: RuntimeWarning: overflow encountered in exp2\n",
      "  perwordbound, np.exp2(-perwordbound), len(chunk), corpus_words\n"
     ]
    },
    {
     "name": "stdout",
     "output_type": "stream",
     "text": [
      "0.00544146041776372\n",
      "0.00813184884274933\n",
      "Wall time: 4min 7s\n"
     ]
    }
   ],
   "source": [
    "%%time\n",
    "#Model LDA avec un corpus TFIDF\n",
    "nbreTopics = 1500\n",
    "#Création BoW pour le jeu d'entrainement\n",
    "tokenized_list = [simple_preprocess(doc) for doc in list(Quest_train['Title_Body_Code_Cleaned'])]\n",
    "dictionary = copy.copy(dictionary_backup)\n",
    "dictionary.filter_extremes(no_below=3, no_above=0.03)\n",
    "CountVectorizer_Quest = CountVectorizer(vocabulary = dictionary.token2id).fit(Quest_train[\"Title_Body_Code_Cleaned\"])\n",
    "Quest_train_vect = CountVectorizer_Quest.transform(Quest_train[\"Title_Body_Code_Cleaned\"])\n",
    "corpus_bow_train = [dictionary.doc2bow(doc, allow_update = False) for doc in tokenized_list]\n",
    "#Création TFIDF pour le jeu d'entrainement\n",
    "tfidf = TfidfModel(corpus_bow_train)\n",
    "corpus_tfidf_train = tfidf[corpus_bow_train]\n",
    "#Création BoW pour le jeu de test\n",
    "tokenized_list_test = [simple_preprocess(doc) for doc in list(Quest_test['Title_Body_Code_Cleaned'])]\n",
    "corpus_bow_test = [dictionary.doc2bow(doc, allow_update = False) for doc in tokenized_list_test]\n",
    "#Création du TFIDF pour le jeu de TEST\n",
    "corpus_tfidf_test = tfidf[corpus_bow_test]\n",
    "#Prediction avec le modèle LDA et le TFIDF\n",
    "repLDA_tfidf = tagsPredictLDA(nbreTopics, corpus_tfidf_train, corpus_tfidf_test, dictionary, Tags_train_vect, Tags_test, dictionnaire_tags)\n",
    "print(repLDA_tfidf[\"Precision\"].mean())\n",
    "print(repLDA_tfidf[\"Rappel\"].mean())"
   ]
  },
  {
   "cell_type": "markdown",
   "metadata": {},
   "source": [
    "<CENTER><H2>TOPIC MODELING AVEC NMF</H2></CENTER>"
   ]
  },
  {
   "cell_type": "markdown",
   "metadata": {},
   "source": [
    "<CENTER><H3>RECHERCHE DU NOMBRE DE \"TOPICS\" OPTIMAL NMF</H3></CENTER>"
   ]
  },
  {
   "cell_type": "code",
   "execution_count": null,
   "metadata": {},
   "outputs": [],
   "source": [
    "%%time\n",
    "repNMF = []\n",
    "for nbreTopicsNMF in range(100, 500, 100):\n",
    "\n",
    "    nmf = NMF(n_components = nbreTopicsNMF, random_state=0)\n",
    "    nmf.fit(Quest_train_vect)\n",
    "    Quest_train_nmf = nmf.transform(Quest_train_vect)\n",
    "    Quest_test_nmf = nmf.transform(Quest_test_vect)\n",
    "    Topics_Tags_nmf = Quest_train_nmf.transpose().dot(Tags_train_vect.toarray())\n",
    "    Quest_tags_test = Quest_test_nmf.dot(Topics_Tags_nmf)\n",
    "\n",
    "    tagsPredit = []\n",
    "    for i in range(len(Quest_tags_test)):\n",
    "        t = []\n",
    "        nbreTagsAPredire = 6\n",
    "        for j in Quest_tags_test[i].argsort()[::-1][:nbreTagsAPredire]:\n",
    "            t.append(dictionnaire_tags[j])\n",
    "        tagsPredit.append(t)\n",
    "\n",
    "    tagsPredict = [\",\".join(t) for t in tagsPredit]\n",
    "\n",
    "    Tags_test_Predict = Tags_test.copy()\n",
    "    Tags_test_Predict[\"TagsPredict\"] = tagsPredict\n",
    "    Tags_test_Predict[\"Precision\"] = Tags_test_Predict[[\"TagsCleaned\", \"TagsPredict\"]].apply(lambda x: precision(x[\"TagsCleaned\"], x[\"TagsPredict\"]), axis = 1)\n",
    "    Tags_test_Predict[\"Rappel\"] = Tags_test_Predict[[\"TagsCleaned\", \"TagsPredict\"]].apply(lambda x: rappel(x[\"TagsCleaned\"], x[\"TagsPredict\"]), axis = 1)\n",
    "    print(\"*****Nombre de Topics: {} *****\".format(nbreTopicsNMF))\n",
    "    print(Tags_test_Predict[\"Precision\"].mean())\n",
    "    print(Tags_test_Predict[\"Rappel\"].mean())\n",
    "    repNMF.append(Tags_test_Predict)\n"
   ]
  },
  {
   "cell_type": "code",
   "execution_count": null,
   "metadata": {},
   "outputs": [],
   "source": [
    "plt.figure(figsize = (15, 10))\n",
    "plt.plot(range(100,500,100), [repNMF[i]['Precision'].mean() for i in range(len(repNMF))], label = \"precision\")\n",
    "plt.plot(range(100,500,100), [repNMF[i]['Rappel'].mean() for i in range(len(repNMF))], label= \"rappel\")\n",
    "f_score_nmf = 2 * (np.array([repNMF[i]['Precision'].mean() for i in range(len(repNMF))]) * np.array([repNMF[i]['Rappel'].mean() for i in range(len(repNMF))])) / (np.array([repNMF[i]['Precision'].mean() for i in range(len(repNMF))]) + np.array([repNMF[i]['Rappel'].mean() for i in range(len(repNMF))]))\n",
    "plt.plot(range(100,500,100), f_score_nmf, label = \"F-Score\")\n",
    "plt.title(\"Performance de prédiction du modèle NMF en fonction du nombre de Topics\")\n",
    "plt.xlabel(\"Nombre de Topics\")\n",
    "plt.ylabel(\"Taux\")\n",
    "plt.legend()\n",
    "plt.savefig(\"performance_nmf.png\", dpi = 300)"
   ]
  },
  {
   "cell_type": "markdown",
   "metadata": {},
   "source": [
    "<CENTER><H3><CENTER><H2>SVM CLASSIFIER</H2></CENTER></H3></CENTER>"
   ]
  },
  {
   "cell_type": "code",
   "execution_count": 60,
   "metadata": {},
   "outputs": [],
   "source": [
    "titleBodyCodeCleaned = [[m for m in q.split()] for q in list(Quest_train[\"Title_Body_Code_Cleaned\"]) ] \n",
    "dictionary = corpora.Dictionary(titleBodyCodeCleaned)\n",
    "dictionary_backup = copy.copy(dictionary)\n",
    "dictionary.filter_extremes(no_below=3, no_above=0.03)"
   ]
  },
  {
   "cell_type": "code",
   "execution_count": 61,
   "metadata": {},
   "outputs": [],
   "source": [
    "CountVectorizer_Quest = CountVectorizer(vocabulary = dictionary.token2id).fit(Quest_train[\"Title_Body_Code_Cleaned\"])\n",
    "Quest_train_vect = CountVectorizer_Quest.transform(Quest_train[\"Title_Body_Code_Cleaned\"])"
   ]
  },
  {
   "cell_type": "code",
   "execution_count": 62,
   "metadata": {},
   "outputs": [],
   "source": [
    "Quest_test_vect = CountVectorizer_Quest.transform(Quest_test[\"Title_Body_Code_Cleaned\"])"
   ]
  },
  {
   "cell_type": "code",
   "execution_count": 63,
   "metadata": {},
   "outputs": [],
   "source": [
    "from sklearn.linear_model import SGDClassifier\n",
    "from sklearn.model_selection import cross_val_score\n",
    "from sklearn.multiclass import OneVsRestClassifier\n",
    "from sklearn.metrics import accuracy_score, f1_score, precision_score, recall_score, classification_report, confusion_matrix\n",
    "from sklearn.model_selection import GridSearchCV"
   ]
  },
  {
   "cell_type": "code",
   "execution_count": 64,
   "metadata": {},
   "outputs": [],
   "source": [
    "param_grid = {\"estimator__alpha\":[10 ** -i for i in range(1, 4)], \n",
    "              \"estimator__l1_ratio\" : [i / 100 for i in range(0, 30, 10)]}"
   ]
  },
  {
   "cell_type": "code",
   "execution_count": 65,
   "metadata": {},
   "outputs": [],
   "source": [
    "sgdc = OneVsRestClassifier(SGDClassifier(loss = \"log\"))"
   ]
  },
  {
   "cell_type": "markdown",
   "metadata": {},
   "source": [
    "<CENTER><H3>AVEC UNE MATRICE \"COUNTVECTORIZOR\"</H3></CENTER>"
   ]
  },
  {
   "cell_type": "code",
   "execution_count": 66,
   "metadata": {},
   "outputs": [
    {
     "name": "stdout",
     "output_type": "stream",
     "text": [
      "Best_params: {'estimator__alpha': 0.001, 'estimator__l1_ratio': 0.1}\n",
      "Best_score: 0.0821834843058774\n"
     ]
    }
   ],
   "source": [
    "grid_search = GridSearchCV(sgdc, param_grid, cv = 3)\n",
    "grid_search.fit(Quest_train_vect, Tags_train_vect)\n",
    "print(\"Best_params: {}\".format(grid_search.best_params_))\n",
    "print(\"Best_score: {}\".format(grid_search.best_score_))"
   ]
  },
  {
   "cell_type": "code",
   "execution_count": 67,
   "metadata": {},
   "outputs": [],
   "source": [
    "sgdc = OneVsRestClassifier(SGDClassifier(loss = \"log\", alpha = 0.001, l1_ratio = 0.1))"
   ]
  },
  {
   "cell_type": "code",
   "execution_count": 68,
   "metadata": {},
   "outputs": [
    {
     "data": {
      "text/plain": [
       "OneVsRestClassifier(estimator=SGDClassifier(alpha=0.001, average=False, class_weight=None, epsilon=0.1,\n",
       "       eta0=0.0, fit_intercept=True, l1_ratio=0.1, learning_rate='optimal',\n",
       "       loss='log', n_iter=5, n_jobs=1, penalty='l2', power_t=0.5,\n",
       "       random_state=None, shuffle=True, verbose=0, warm_start=False),\n",
       "          n_jobs=1)"
      ]
     },
     "execution_count": 68,
     "metadata": {},
     "output_type": "execute_result"
    }
   ],
   "source": [
    "sgdc.fit(Quest_train_vect, Tags_train_vect)"
   ]
  },
  {
   "cell_type": "code",
   "execution_count": 69,
   "metadata": {},
   "outputs": [],
   "source": [
    "tagsPredict_sgdc = sgdc.predict(Quest_test_vect)"
   ]
  },
  {
   "cell_type": "code",
   "execution_count": 70,
   "metadata": {},
   "outputs": [
    {
     "name": "stdout",
     "output_type": "stream",
     "text": [
      "***** *****\n",
      "0.12097595225557196\n",
      "0.2614867056178275\n"
     ]
    }
   ],
   "source": [
    "tagsPredit = []\n",
    "for i in range(len(Quest_test)):\n",
    "    t = []\n",
    "    nbreTagsAPredire = 6\n",
    "    for j in tagsPredict_sgdc.toarray()[i].argsort()[::-1][:nbreTagsAPredire]:\n",
    "        t.append(dictionnaire_tags[j])\n",
    "    tagsPredit.append(t)\n",
    "\n",
    "tagsPredict = [\",\".join(t) for t in tagsPredit]\n",
    "\n",
    "Tags_test_Predict = Tags_test.copy()\n",
    "Tags_test_Predict[\"TagsPredict\"] = tagsPredict\n",
    "Tags_test_Predict[\"Precision\"] = Tags_test_Predict[[\"TagsCleaned\", \"TagsPredict\"]].apply(lambda x: precision(x[\"TagsCleaned\"], x[\"TagsPredict\"]), axis = 1)\n",
    "Tags_test_Predict[\"Rappel\"] = Tags_test_Predict[[\"TagsCleaned\", \"TagsPredict\"]].apply(lambda x: rappel(x[\"TagsCleaned\"], x[\"TagsPredict\"]), axis = 1)\n",
    "print(\"***** *****\")\n",
    "print(Tags_test_Predict[\"Precision\"].mean())\n",
    "print(Tags_test_Predict[\"Rappel\"].mean())"
   ]
  },
  {
   "cell_type": "code",
   "execution_count": 71,
   "metadata": {},
   "outputs": [
    {
     "data": {
      "text/html": [
       "<div>\n",
       "<style scoped>\n",
       "    .dataframe tbody tr th:only-of-type {\n",
       "        vertical-align: middle;\n",
       "    }\n",
       "\n",
       "    .dataframe tbody tr th {\n",
       "        vertical-align: top;\n",
       "    }\n",
       "\n",
       "    .dataframe thead th {\n",
       "        text-align: right;\n",
       "    }\n",
       "</style>\n",
       "<table border=\"1\" class=\"dataframe\">\n",
       "  <thead>\n",
       "    <tr style=\"text-align: right;\">\n",
       "      <th></th>\n",
       "      <th>TagsCleaned</th>\n",
       "      <th>TagsPredict</th>\n",
       "      <th>Precision</th>\n",
       "      <th>Rappel</th>\n",
       "    </tr>\n",
       "  </thead>\n",
       "  <tbody>\n",
       "    <tr>\n",
       "      <th>38024</th>\n",
       "      <td>deep,native,react</td>\n",
       "      <td>react,native,youtube,fragments,firebase,firefox</td>\n",
       "      <td>0.333333</td>\n",
       "      <td>0.666667</td>\n",
       "    </tr>\n",
       "    <tr>\n",
       "      <th>26970</th>\n",
       "      <td>azure,cosmosdb</td>\n",
       "      <td>azure,youtube,grid,firebase,firefox,firestore</td>\n",
       "      <td>0.166667</td>\n",
       "      <td>0.500000</td>\n",
       "    </tr>\n",
       "    <tr>\n",
       "      <th>3233</th>\n",
       "      <td>angular,jasmine,testing,unit</td>\n",
       "      <td>youtube,learn,filter,firebase,firefox,firestore</td>\n",
       "      <td>0.000000</td>\n",
       "      <td>0.000000</td>\n",
       "    </tr>\n",
       "    <tr>\n",
       "      <th>1642</th>\n",
       "      <td>mongodb,query</td>\n",
       "      <td>mongodb,youtube,grid,firebase,firefox,firestore</td>\n",
       "      <td>0.166667</td>\n",
       "      <td>0.500000</td>\n",
       "    </tr>\n",
       "    <tr>\n",
       "      <th>31501</th>\n",
       "      <td>flutter</td>\n",
       "      <td>flutter,youtube,learn,filter,firebase,firefox</td>\n",
       "      <td>0.166667</td>\n",
       "      <td>1.000000</td>\n",
       "    </tr>\n",
       "  </tbody>\n",
       "</table>\n",
       "</div>"
      ],
      "text/plain": [
       "                        TagsCleaned  \\\n",
       "38024             deep,native,react   \n",
       "26970                azure,cosmosdb   \n",
       "3233   angular,jasmine,testing,unit   \n",
       "1642                  mongodb,query   \n",
       "31501                       flutter   \n",
       "\n",
       "                                           TagsPredict  Precision    Rappel  \n",
       "38024  react,native,youtube,fragments,firebase,firefox   0.333333  0.666667  \n",
       "26970    azure,youtube,grid,firebase,firefox,firestore   0.166667  0.500000  \n",
       "3233   youtube,learn,filter,firebase,firefox,firestore   0.000000  0.000000  \n",
       "1642   mongodb,youtube,grid,firebase,firefox,firestore   0.166667  0.500000  \n",
       "31501    flutter,youtube,learn,filter,firebase,firefox   0.166667  1.000000  "
      ]
     },
     "execution_count": 71,
     "metadata": {},
     "output_type": "execute_result"
    }
   ],
   "source": [
    "Tags_test_Predict.head()"
   ]
  },
  {
   "cell_type": "markdown",
   "metadata": {},
   "source": [
    "<CENTER><H3>AVEC UNE MATRICE \"NMF\"</H3></CENTER>"
   ]
  },
  {
   "cell_type": "code",
   "execution_count": 72,
   "metadata": {},
   "outputs": [
    {
     "name": "stdout",
     "output_type": "stream",
     "text": [
      "Wall time: 1min 54s\n"
     ]
    }
   ],
   "source": [
    "%%time\n",
    "nbreTopicsNMF = 100\n",
    "nmf = NMF(n_components = nbreTopicsNMF, random_state=0)\n",
    "nmf.fit(Quest_train_vect)\n",
    "Quest_train_nmf = nmf.transform(Quest_train_vect)\n",
    "Quest_test_nmf = nmf.transform(Quest_test_vect)"
   ]
  },
  {
   "cell_type": "code",
   "execution_count": 73,
   "metadata": {},
   "outputs": [],
   "source": [
    "sgdc_nmf = OneVsRestClassifier(SGDClassifier(loss = \"log\", alpha = 0.0001, l1_ratio = 0.1))"
   ]
  },
  {
   "cell_type": "code",
   "execution_count": 74,
   "metadata": {},
   "outputs": [
    {
     "name": "stdout",
     "output_type": "stream",
     "text": [
      "Wall time: 51.7 s\n"
     ]
    },
    {
     "data": {
      "text/plain": [
       "OneVsRestClassifier(estimator=SGDClassifier(alpha=0.0001, average=False, class_weight=None, epsilon=0.1,\n",
       "       eta0=0.0, fit_intercept=True, l1_ratio=0.1, learning_rate='optimal',\n",
       "       loss='log', n_iter=5, n_jobs=1, penalty='l2', power_t=0.5,\n",
       "       random_state=None, shuffle=True, verbose=0, warm_start=False),\n",
       "          n_jobs=1)"
      ]
     },
     "execution_count": 74,
     "metadata": {},
     "output_type": "execute_result"
    }
   ],
   "source": [
    "%%time\n",
    "sgdc_nmf.fit(Quest_train_nmf, Tags_train_vect)"
   ]
  },
  {
   "cell_type": "code",
   "execution_count": 75,
   "metadata": {},
   "outputs": [],
   "source": [
    "tagsPredict_sgdc_nmf = sgdc_nmf.predict(Quest_test_nmf)"
   ]
  },
  {
   "cell_type": "code",
   "execution_count": 76,
   "metadata": {},
   "outputs": [
    {
     "name": "stdout",
     "output_type": "stream",
     "text": [
      "***** *****\n",
      "0.008969633140249261\n",
      "0.015602572782667579\n"
     ]
    }
   ],
   "source": [
    "tagsPredit_nmf = []\n",
    "for i in range(len(Quest_test)):\n",
    "    t = []\n",
    "    nbreTagsAPredire = 6\n",
    "    for j in tagsPredict_sgdc_nmf.toarray()[i].argsort()[::-1][:nbreTagsAPredire]:\n",
    "        t.append(dictionnaire_tags[j])\n",
    "    tagsPredit_nmf.append(t)\n",
    "\n",
    "tagsPredict_nmf = [\",\".join(t) for t in tagsPredit_nmf]\n",
    "\n",
    "Tags_test_Predict_nmf = Tags_test.copy()\n",
    "Tags_test_Predict_nmf[\"TagsPredict\"] = tagsPredict_nmf\n",
    "Tags_test_Predict_nmf[\"Precision\"] = Tags_test_Predict_nmf[[\"TagsCleaned\", \"TagsPredict\"]].apply(lambda x: precision(x[\"TagsCleaned\"], x[\"TagsPredict\"]), axis = 1)\n",
    "Tags_test_Predict_nmf[\"Rappel\"] = Tags_test_Predict_nmf[[\"TagsCleaned\", \"TagsPredict\"]].apply(lambda x: rappel(x[\"TagsCleaned\"], x[\"TagsPredict\"]), axis = 1)\n",
    "print(\"***** *****\")\n",
    "print(Tags_test_Predict_nmf[\"Precision\"].mean())\n",
    "print(Tags_test_Predict_nmf[\"Rappel\"].mean())"
   ]
  },
  {
   "cell_type": "code",
   "execution_count": null,
   "metadata": {},
   "outputs": [],
   "source": []
  }
 ],
 "metadata": {
  "kernelspec": {
   "display_name": "Python 3",
   "language": "python",
   "name": "python3"
  },
  "language_info": {
   "codemirror_mode": {
    "name": "ipython",
    "version": 3
   },
   "file_extension": ".py",
   "mimetype": "text/x-python",
   "name": "python",
   "nbconvert_exporter": "python",
   "pygments_lexer": "ipython3",
   "version": "3.6.8"
  }
 },
 "nbformat": 4,
 "nbformat_minor": 2
}
